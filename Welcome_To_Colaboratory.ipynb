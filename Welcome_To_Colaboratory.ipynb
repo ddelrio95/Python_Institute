{
  "nbformat": 4,
  "nbformat_minor": 0,
  "metadata": {
    "colab": {
      "name": "Welcome To Colaboratory",
      "provenance": [],
      "collapsed_sections": [],
      "include_colab_link": true
    },
    "kernelspec": {
      "display_name": "Python 3",
      "name": "python3"
    }
  },
  "cells": [
    {
      "cell_type": "markdown",
      "metadata": {
        "id": "view-in-github",
        "colab_type": "text"
      },
      "source": [
        "<a href=\"https://colab.research.google.com/github/ddelrio95/Python_Institute/blob/main/Welcome_To_Colaboratory.ipynb\" target=\"_parent\"><img src=\"https://colab.research.google.com/assets/colab-badge.svg\" alt=\"Open In Colab\"/></a>"
      ]
    },
    {
      "cell_type": "code",
      "metadata": {
        "id": "k_zLdfLJMODz",
        "colab": {
          "base_uri": "https://localhost:8080/"
        },
        "outputId": "227ad6d5-35b0-4b35-c688-c5dc58c2b63d"
      },
      "source": [
        "print (\"hello\")"
      ],
      "execution_count": null,
      "outputs": [
        {
          "output_type": "stream",
          "text": [
            "hello\n"
          ],
          "name": "stdout"
        }
      ]
    },
    {
      "cell_type": "code",
      "metadata": {
        "id": "wrrccsvWbIta",
        "colab": {
          "base_uri": "https://localhost:8080/"
        },
        "outputId": "580520a5-a0dd-4e8c-a1e5-bb6a51548d88"
      },
      "source": [
        "a = int(input(\"enter the first number\"))\n",
        "b = int(input(\"enter the second number\"))\n",
        "sum = a + b\n",
        "print(\"sum:\", sum)"
      ],
      "execution_count": null,
      "outputs": [
        {
          "output_type": "stream",
          "text": [
            "enter the first number5\n",
            "enter the second number6\n",
            "sum: 11\n"
          ],
          "name": "stdout"
        }
      ]
    },
    {
      "cell_type": "code",
      "metadata": {
        "id": "7scG1ZZhibF7",
        "colab": {
          "base_uri": "https://localhost:8080/"
        },
        "outputId": "6bca8796-4b87-444d-ffb7-62ebb6e6a946"
      },
      "source": [
        "if sum <= 10:\n",
        "  print(\"Es menor\")\n",
        "else:\n",
        "    print(\"Es mayor\")\n",
        "\n",
        "\n"
      ],
      "execution_count": null,
      "outputs": [
        {
          "output_type": "stream",
          "text": [
            "Es mayor\n"
          ],
          "name": "stdout"
        }
      ]
    },
    {
      "cell_type": "code",
      "metadata": {
        "id": "DQH2AobXRbda",
        "colab": {
          "base_uri": "https://localhost:8080/"
        },
        "outputId": "e62c9dae-c093-4dac-ad92-bdea1dd5b1ee"
      },
      "source": [
        "a = int(input(\"Enter the number: \"))\n",
        "if (a % 2) == 0:\n",
        "  print(\"The number is Even\")\n",
        "else:\n",
        "    print(\"The number is Odd\")"
      ],
      "execution_count": null,
      "outputs": [
        {
          "output_type": "stream",
          "text": [
            "Enter the number: 44\n",
            "The number is Even\n"
          ],
          "name": "stdout"
        }
      ]
    },
    {
      "cell_type": "code",
      "metadata": {
        "id": "aW2_-LRgLKxV",
        "colab": {
          "base_uri": "https://localhost:8080/"
        },
        "outputId": "d7253bee-d704-4208-f193-681a09371cb6"
      },
      "source": [
        "print(\"My\", \"name\", \"is\", \"Monty\", \"Python.\", sep=\"-\")\n"
      ],
      "execution_count": null,
      "outputs": [
        {
          "output_type": "stream",
          "text": [
            "My-name-is-Monty-Python.\n"
          ],
          "name": "stdout"
        }
      ]
    },
    {
      "cell_type": "code",
      "metadata": {
        "id": "2nhWupUPG8NC",
        "colab": {
          "base_uri": "https://localhost:8080/"
        },
        "outputId": "a3f781f8-6565-45f4-a252-3ae839e61431"
      },
      "source": [
        "print(\"    *\")\n",
        "print(\"   * *\")\n",
        "print(\"  *   *\")\n",
        "print(\" *     *\")\n",
        "print(\"***   ***\")\n",
        "print(\"  *   *\")\n",
        "print(\"  *   *\")\n",
        "print(\"  *****\")"
      ],
      "execution_count": null,
      "outputs": [
        {
          "output_type": "stream",
          "text": [
            "    *\n",
            "   * *\n",
            "  *   *\n",
            " *     *\n",
            "***   ***\n",
            "  *   *\n",
            "  *   *\n",
            "  *****\n"
          ],
          "name": "stdout"
        }
      ]
    },
    {
      "cell_type": "code",
      "metadata": {
        "id": "qq9ilsliRn80",
        "colab": {
          "base_uri": "https://localhost:8080/"
        },
        "outputId": "e0950282-f85f-44e4-8c74-e07c20d07d80"
      },
      "source": [
        "print(\"I like \\\"Monty Python\\\"\")"
      ],
      "execution_count": null,
      "outputs": [
        {
          "output_type": "stream",
          "text": [
            "I like \"Monty Python\"\n"
          ],
          "name": "stdout"
        }
      ]
    },
    {
      "cell_type": "code",
      "metadata": {
        "id": "9b4QlYO7SKDT",
        "colab": {
          "base_uri": "https://localhost:8080/"
        },
        "outputId": "ab8e3b4a-c53e-4500-e8ee-b948c0ee9d97"
      },
      "source": [
        "print('I like \"Monty Python\"')"
      ],
      "execution_count": null,
      "outputs": [
        {
          "output_type": "stream",
          "text": [
            "I like \"Monty Python\"\n"
          ],
          "name": "stdout"
        }
      ]
    },
    {
      "cell_type": "code",
      "metadata": {
        "id": "5iPvXRXPUYQQ",
        "colab": {
          "base_uri": "https://localhost:8080/"
        },
        "outputId": "88af8a98-3438-40e7-8489-f4e5f99feeaf"
      },
      "source": [
        "print(2+2)"
      ],
      "execution_count": null,
      "outputs": [
        {
          "output_type": "stream",
          "text": [
            "4\n"
          ],
          "name": "stdout"
        }
      ]
    },
    {
      "cell_type": "code",
      "metadata": {
        "id": "BS15PFu1UeLU",
        "colab": {
          "base_uri": "https://localhost:8080/"
        },
        "outputId": "efd8dd83-5cc8-4972-a5a4-b7d4811283f5"
      },
      "source": [
        "print(2 ** 3)\n",
        "print(2 ** 3.)\n",
        "print(2. ** 3)\n",
        "print(2. ** 3.)\n"
      ],
      "execution_count": null,
      "outputs": [
        {
          "output_type": "stream",
          "text": [
            "8\n",
            "8.0\n",
            "8.0\n",
            "8.0\n"
          ],
          "name": "stdout"
        }
      ]
    },
    {
      "cell_type": "code",
      "metadata": {
        "id": "s2QIY321VD4A",
        "colab": {
          "base_uri": "https://localhost:8080/"
        },
        "outputId": "82b9f6f4-25df-41b8-c834-84f896699f1c"
      },
      "source": [
        "print(6 / 3)\n",
        "print(6 / 2.5)\n",
        "print(6. / 3)\n",
        "print(6. / 3.)"
      ],
      "execution_count": null,
      "outputs": [
        {
          "output_type": "stream",
          "text": [
            "2.0\n",
            "2.4\n",
            "2.0\n",
            "2.0\n"
          ],
          "name": "stdout"
        }
      ]
    },
    {
      "cell_type": "code",
      "metadata": {
        "id": "j4jSV0uUVjA9",
        "colab": {
          "base_uri": "https://localhost:8080/"
        },
        "outputId": "1696a901-e64d-4407-91c1-b4a695d684c8"
      },
      "source": [
        "print(6//3)\n",
        "print(6//3.)\n",
        "print(-6.//4)\n",
        "print(6.// -4)"
      ],
      "execution_count": null,
      "outputs": [
        {
          "output_type": "stream",
          "text": [
            "2\n",
            "2.0\n",
            "-2.0\n",
            "-2.0\n"
          ],
          "name": "stdout"
        }
      ]
    },
    {
      "cell_type": "code",
      "metadata": {
        "id": "VoxZkbbxWJiX",
        "colab": {
          "base_uri": "https://localhost:8080/"
        },
        "outputId": "38ea2d44-0e7f-4812-9c76-214831481ad2"
      },
      "source": [
        "print(12. % 2)"
      ],
      "execution_count": null,
      "outputs": [
        {
          "output_type": "stream",
          "text": [
            "0.0\n"
          ],
          "name": "stdout"
        }
      ]
    },
    {
      "cell_type": "code",
      "metadata": {
        "colab": {
          "base_uri": "https://localhost:8080/"
        },
        "id": "lZuyYDPqgg7H",
        "outputId": "85ac9728-23ca-4791-cdbd-e0ea4a1d3418"
      },
      "source": [
        "print(9 % 6 % 2.)"
      ],
      "execution_count": null,
      "outputs": [
        {
          "output_type": "stream",
          "text": [
            "1.0\n"
          ],
          "name": "stdout"
        }
      ]
    },
    {
      "cell_type": "code",
      "metadata": {
        "colab": {
          "base_uri": "https://localhost:8080/"
        },
        "id": "T-i0EJMogvQd",
        "outputId": "9ae8b962-ff89-4efd-b972-25e4c66f8a1a"
      },
      "source": [
        "print(2. ** 2 ** 3)"
      ],
      "execution_count": null,
      "outputs": [
        {
          "output_type": "stream",
          "text": [
            "256.0\n"
          ],
          "name": "stdout"
        }
      ]
    },
    {
      "cell_type": "code",
      "metadata": {
        "colab": {
          "base_uri": "https://localhost:8080/"
        },
        "id": "OME5QBPsg49z",
        "outputId": "0b88e5db-f22e-4379-c9d2-cd24973b23e9"
      },
      "source": [
        "print((5 * ((25 % 13) + 100) / (2 * 13)) // 2)"
      ],
      "execution_count": null,
      "outputs": [
        {
          "output_type": "stream",
          "text": [
            "10.0\n"
          ],
          "name": "stdout"
        }
      ]
    },
    {
      "cell_type": "code",
      "metadata": {
        "colab": {
          "base_uri": "https://localhost:8080/"
        },
        "id": "aFIQFB2NhBev",
        "outputId": "e6404b89-f229-4c0b-a18d-b51b086a0392"
      },
      "source": [
        "print((2 ** 4), (2 * 4.), (2 * 4))"
      ],
      "execution_count": null,
      "outputs": [
        {
          "output_type": "stream",
          "text": [
            "16 8.0 8\n"
          ],
          "name": "stdout"
        }
      ]
    },
    {
      "cell_type": "code",
      "metadata": {
        "colab": {
          "base_uri": "https://localhost:8080/"
        },
        "id": "igSX_hyphbrI",
        "outputId": "70bd701f-c0e4-4697-f07a-e87c656a39ab"
      },
      "source": [
        "var = 1\n",
        "print(var)"
      ],
      "execution_count": null,
      "outputs": [
        {
          "output_type": "stream",
          "text": [
            "1\n"
          ],
          "name": "stdout"
        }
      ]
    },
    {
      "cell_type": "code",
      "metadata": {
        "colab": {
          "base_uri": "https://localhost:8080/"
        },
        "id": "qJBdhqiLhkQu",
        "outputId": "15beae1a-9a45-4606-c84d-938aa776ea9f"
      },
      "source": [
        "var = 1\n",
        "account_balance = 1000.0\n",
        "client_name = 'John Doe'\n",
        "print(var, account_balance, client_name)\n",
        "print(var)"
      ],
      "execution_count": null,
      "outputs": [
        {
          "output_type": "stream",
          "text": [
            "1 1000.0 John Doe\n",
            "1\n"
          ],
          "name": "stdout"
        }
      ]
    },
    {
      "cell_type": "code",
      "metadata": {
        "colab": {
          "base_uri": "https://localhost:8080/"
        },
        "id": "g32HI7mAh_3H",
        "outputId": "92bb0cdb-603f-436f-8591-c88bf061df66"
      },
      "source": [
        "var = 1\n",
        "print(var)\n",
        "var = var + 1\n",
        "print(var)"
      ],
      "execution_count": null,
      "outputs": [
        {
          "output_type": "stream",
          "text": [
            "1\n",
            "2\n"
          ],
          "name": "stdout"
        }
      ]
    },
    {
      "cell_type": "code",
      "metadata": {
        "colab": {
          "base_uri": "https://localhost:8080/"
        },
        "id": "YCG75Un8iN30",
        "outputId": "a2a02db8-2c05-4172-926d-24c1743f8216"
      },
      "source": [
        "var = 100\n",
        "var = 200 + 300\n",
        "print(var)"
      ],
      "execution_count": null,
      "outputs": [
        {
          "output_type": "stream",
          "text": [
            "500\n"
          ],
          "name": "stdout"
        }
      ]
    },
    {
      "cell_type": "code",
      "metadata": {
        "id": "Ov6led2y7wmH",
        "colab": {
          "base_uri": "https://localhost:8080/"
        },
        "outputId": "df06a98c-cc35-4a9b-8993-c5482dcb3dea"
      },
      "source": [
        "print((5 * ((25 % 13) + 100) / (2 * 13)) // 2)\n"
      ],
      "execution_count": null,
      "outputs": [
        {
          "output_type": "stream",
          "text": [
            "10.0\n"
          ],
          "name": "stdout"
        }
      ]
    },
    {
      "cell_type": "code",
      "metadata": {
        "id": "Js7_3J1fE19W",
        "colab": {
          "base_uri": "https://localhost:8080/"
        },
        "outputId": "6e12a66a-91e3-46df-8d62-cb5db1f1aa03"
      },
      "source": [
        "john = 3\n",
        "mary = 5\n",
        "adam = 6\n",
        "print(\"john, mary, adam\")\n",
        "total_apples = john + mary + adam\n",
        "print(total_apples)"
      ],
      "execution_count": null,
      "outputs": [
        {
          "output_type": "stream",
          "text": [
            "john, mary, adam\n",
            "14\n"
          ],
          "name": "stdout"
        }
      ]
    },
    {
      "cell_type": "markdown",
      "metadata": {
        "id": "uYi08zGVKKuy"
      },
      "source": [
        "Shorcuts operators\n"
      ]
    },
    {
      "cell_type": "code",
      "metadata": {
        "id": "6495MY-wI24Z",
        "colab": {
          "base_uri": "https://localhost:8080/"
        },
        "outputId": "0230ebc3-2011-47be-8462-dd799706a667"
      },
      "source": [
        "sheep = 2\n",
        "sheep = sheep + 1\n",
        "print('sheep')"
      ],
      "execution_count": null,
      "outputs": [
        {
          "output_type": "stream",
          "text": [
            "sheep\n"
          ],
          "name": "stdout"
        }
      ]
    },
    {
      "cell_type": "code",
      "metadata": {
        "id": "T23mdbk4JQGA"
      },
      "source": [
        "x *= 2\n"
      ],
      "execution_count": null,
      "outputs": []
    },
    {
      "cell_type": "code",
      "metadata": {
        "id": "sv77Fin7Ji8M",
        "colab": {
          "base_uri": "https://localhost:8080/"
        },
        "outputId": "824ce432-b3f8-4343-faf6-0c8bcded5530"
      },
      "source": [
        "sheep += 1\n",
        "print('sheep')"
      ],
      "execution_count": null,
      "outputs": [
        {
          "output_type": "stream",
          "text": [
            "sheep\n"
          ],
          "name": "stdout"
        }
      ]
    },
    {
      "cell_type": "markdown",
      "metadata": {
        "id": "JzAUS0Q0KGIB"
      },
      "source": [
        "variable = variable op expression also shown as (variable op = expression)\n",
        "\n",
        "i = i + 2 * j   ⇒   i += 2 * j\n",
        "\n",
        "var = var / 2   ⇒   var /= 2\n",
        "\n",
        "rem = rem % 10   ⇒   rem %= 10\n",
        "\n",
        "j = j - (i + var + rem)   ⇒   j -= (i + var + rem)\n",
        "\n",
        "x = x ** 2   ⇒   x **= 2"
      ]
    },
    {
      "cell_type": "code",
      "metadata": {
        "id": "J2Osjg9WK4xr",
        "colab": {
          "base_uri": "https://localhost:8080/",
          "height": 180
        },
        "outputId": "d37790c6-5658-4981-896b-6bc105f66641"
      },
      "source": [
        "i = i + 2 * j\n",
        "i += 2 * j"
      ],
      "execution_count": null,
      "outputs": [
        {
          "output_type": "error",
          "ename": "NameError",
          "evalue": "ignored",
          "traceback": [
            "\u001b[0;31m---------------------------------------------------------------------------\u001b[0m",
            "\u001b[0;31mNameError\u001b[0m                                 Traceback (most recent call last)",
            "\u001b[0;32m<ipython-input-21-b341132c88a4>\u001b[0m in \u001b[0;36m<module>\u001b[0;34m()\u001b[0m\n\u001b[0;32m----> 1\u001b[0;31m \u001b[0mi\u001b[0m \u001b[0;34m=\u001b[0m \u001b[0mi\u001b[0m \u001b[0;34m+\u001b[0m \u001b[0;36m2\u001b[0m \u001b[0;34m*\u001b[0m \u001b[0mj\u001b[0m\u001b[0;34m\u001b[0m\u001b[0;34m\u001b[0m\u001b[0m\n\u001b[0m\u001b[1;32m      2\u001b[0m \u001b[0mi\u001b[0m \u001b[0;34m+=\u001b[0m \u001b[0;36m2\u001b[0m \u001b[0;34m*\u001b[0m \u001b[0mj\u001b[0m\u001b[0;34m\u001b[0m\u001b[0;34m\u001b[0m\u001b[0m\n",
            "\u001b[0;31mNameError\u001b[0m: name 'i' is not defined"
          ]
        }
      ]
    },
    {
      "cell_type": "code",
      "metadata": {
        "id": "N8lHE4Q7Pm21",
        "colab": {
          "base_uri": "https://localhost:8080/"
        },
        "outputId": "e94a42ec-12de-4213-a0ac-232a0e9e4855"
      },
      "source": [
        "kilometers = 12.25\n",
        "miles = 7.38\n",
        "ratio = 1.60934\n",
        "\n",
        "miles_to_kilometers = miles * ratio ###\n",
        "kilometers_to_miles = kilometers / ratio ###\n",
        "\n",
        "print(miles, \"miles is\", round(miles_to_kilometers, 2), \"kilometers\")\n",
        "print(kilometers, \"kilometers is\", round(kilometers_to_miles, 2), \"miles\")"
      ],
      "execution_count": null,
      "outputs": [
        {
          "output_type": "stream",
          "text": [
            "7.38 miles is 11.88 kilometers\n",
            "12.25 kilometers is 7.61 miles\n"
          ],
          "name": "stdout"
        }
      ]
    },
    {
      "cell_type": "code",
      "metadata": {
        "id": "lxfLLlBsSoCQ",
        "colab": {
          "base_uri": "https://localhost:8080/"
        },
        "outputId": "a068384f-6247-408b-f425-67d400771480"
      },
      "source": [
        "var = \"007\"\n",
        "print(\"Agent \" + var)\n"
      ],
      "execution_count": null,
      "outputs": [
        {
          "output_type": "stream",
          "text": [
            "Agent 007\n"
          ],
          "name": "stdout"
        }
      ]
    },
    {
      "cell_type": "code",
      "metadata": {
        "id": "4LUnkUK-TEKj",
        "colab": {
          "base_uri": "https://localhost:8080/"
        },
        "outputId": "d0cb39e2-9c06-4f15-b247-5125a3862d2a"
      },
      "source": [
        "a = '1'\n",
        "b = '1'\n",
        "print (a + b) #this is a commnet"
      ],
      "execution_count": null,
      "outputs": [
        {
          "output_type": "stream",
          "text": [
            "11\n"
          ],
          "name": "stdout"
        }
      ]
    },
    {
      "cell_type": "markdown",
      "metadata": {
        "id": "nnyrp9rPUrky"
      },
      "source": [
        "Inputs"
      ]
    },
    {
      "cell_type": "code",
      "metadata": {
        "id": "PNLEfLlTUwTi",
        "colab": {
          "base_uri": "https://localhost:8080/"
        },
        "outputId": "9c439009-508f-4afa-9608-aa51b4015bf9"
      },
      "source": [
        "print(\"Tell me anything...\")\n",
        "anything = input()\n",
        "print(\"Hmm...\", anything, \"... Really?\")"
      ],
      "execution_count": null,
      "outputs": [
        {
          "output_type": "stream",
          "text": [
            "Tell me anything...\n",
            "cscsc\n",
            "Hmm... cscsc ... Really?\n"
          ],
          "name": "stdout"
        }
      ]
    },
    {
      "cell_type": "code",
      "metadata": {
        "id": "MlZBX8wsVA5O",
        "colab": {
          "base_uri": "https://localhost:8080/"
        },
        "outputId": "4c420986-e9d9-49d1-b0ef-1b116de7c1d6"
      },
      "source": [
        "anything = input(\"Tell me anything...\")\n",
        "print(\"Hmm...\", anything, \"...Really?\")"
      ],
      "execution_count": null,
      "outputs": [
        {
          "output_type": "stream",
          "text": [
            "Tell me anything...asas\n",
            "Hmm... asas ...Really?\n"
          ],
          "name": "stdout"
        }
      ]
    },
    {
      "cell_type": "code",
      "metadata": {
        "id": "lyRqoaMCVZsF",
        "colab": {
          "base_uri": "https://localhost:8080/",
          "height": 214
        },
        "outputId": "aae469b7-06f5-412b-edb5-35474d0e9a39"
      },
      "source": [
        "anything = input(\"Enter a number: \")\n",
        "something = anything ** 2.0\n",
        "print(anything, \"to the power of 2 is\", something)"
      ],
      "execution_count": null,
      "outputs": [
        {
          "output_type": "stream",
          "text": [
            "Enter a number: 4\n"
          ],
          "name": "stdout"
        },
        {
          "output_type": "error",
          "ename": "TypeError",
          "evalue": "ignored",
          "traceback": [
            "\u001b[0;31m---------------------------------------------------------------------------\u001b[0m",
            "\u001b[0;31mTypeError\u001b[0m                                 Traceback (most recent call last)",
            "\u001b[0;32m<ipython-input-36-cf85aa8c229a>\u001b[0m in \u001b[0;36m<module>\u001b[0;34m()\u001b[0m\n\u001b[1;32m      1\u001b[0m \u001b[0manything\u001b[0m \u001b[0;34m=\u001b[0m \u001b[0minput\u001b[0m\u001b[0;34m(\u001b[0m\u001b[0;34m\"Enter a number: \"\u001b[0m\u001b[0;34m)\u001b[0m\u001b[0;34m\u001b[0m\u001b[0;34m\u001b[0m\u001b[0m\n\u001b[0;32m----> 2\u001b[0;31m \u001b[0msomething\u001b[0m \u001b[0;34m=\u001b[0m \u001b[0manything\u001b[0m \u001b[0;34m**\u001b[0m \u001b[0;36m2.0\u001b[0m\u001b[0;34m\u001b[0m\u001b[0;34m\u001b[0m\u001b[0m\n\u001b[0m\u001b[1;32m      3\u001b[0m \u001b[0mprint\u001b[0m\u001b[0;34m(\u001b[0m\u001b[0manything\u001b[0m\u001b[0;34m,\u001b[0m \u001b[0;34m\"to the power of 2 is\"\u001b[0m\u001b[0;34m,\u001b[0m \u001b[0msomething\u001b[0m\u001b[0;34m)\u001b[0m\u001b[0;34m\u001b[0m\u001b[0;34m\u001b[0m\u001b[0m\n",
            "\u001b[0;31mTypeError\u001b[0m: unsupported operand type(s) for ** or pow(): 'str' and 'float'"
          ]
        }
      ]
    },
    {
      "cell_type": "code",
      "metadata": {
        "id": "bnJWvWdSWTSy",
        "colab": {
          "base_uri": "https://localhost:8080/"
        },
        "outputId": "091e72af-d50f-4d75-d798-25adca4ab45f"
      },
      "source": [
        "# Testing TypeError message.\n",
        "\n",
        "anything = int(input(\"Enter a number: \"))\n",
        "something = anything ** 2\n",
        "print(anything, \"to the power of 2 is\", something)\n"
      ],
      "execution_count": null,
      "outputs": [
        {
          "output_type": "stream",
          "text": [
            "Enter a number: 3\n",
            "3 to the power of 2 is 9\n"
          ],
          "name": "stdout"
        }
      ]
    },
    {
      "cell_type": "code",
      "metadata": {
        "id": "U8jihHL8W4kx",
        "colab": {
          "base_uri": "https://localhost:8080/"
        },
        "outputId": "9f11078c-26a0-477d-c15e-05a43ee04131"
      },
      "source": [
        "anything = float(input(\"Enter a number: \"))\n",
        "something = anything ** 2.0\n",
        "print(anything, \"to the power of 2 is\", something)"
      ],
      "execution_count": null,
      "outputs": [
        {
          "output_type": "stream",
          "text": [
            "Enter a number: 34\n",
            "34.0 to the power of 2 is 1156.0\n"
          ],
          "name": "stdout"
        }
      ]
    },
    {
      "cell_type": "code",
      "metadata": {
        "id": "MqUYqqDNvRoZ"
      },
      "source": [
        "leg_a = float(input(\"Input first leg length: \"))\n",
        "leg_b = float(input(\"Input second leg length: \"))\n",
        "hypo = (leg_a**2 + leg_b**2) ** .5\n",
        "print(\"Hypotenuse length is\", hypo)\n"
      ],
      "execution_count": null,
      "outputs": []
    },
    {
      "cell_type": "code",
      "metadata": {
        "id": "q3Loxww7MglX"
      },
      "source": [
        "name = input(\"Give me your name: \")\n",
        "print(\"Your name is \" + name)\n",
        "\n"
      ],
      "execution_count": null,
      "outputs": []
    },
    {
      "cell_type": "code",
      "metadata": {
        "id": "wx3JPqRwP-an"
      },
      "source": [
        "age = int(input(\"Enter your age: \"))\n",
        "if age <= 18:\n",
        "  print(\"You are underage\")\n",
        "else: \n",
        "  print(\"The person is older\")"
      ],
      "execution_count": null,
      "outputs": []
    },
    {
      "cell_type": "code",
      "metadata": {
        "id": "oHK-3SSSQJ64"
      },
      "source": [
        "animals = ['dog', 'cat', 'bird', 'fish', 'lizard']\n",
        "pet = input(\"Enter the type of animal: \")\n",
        "if pet == 1:\n",
        "print(\"The animal is a \")"
      ],
      "execution_count": null,
      "outputs": []
    }
  ]
}