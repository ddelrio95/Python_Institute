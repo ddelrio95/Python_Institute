{
  "nbformat": 4,
  "nbformat_minor": 0,
  "metadata": {
    "colab": {
      "name": "Welcome To Colaboratory",
      "provenance": [],
      "collapsed_sections": [],
      "toc_visible": true,
      "include_colab_link": true
    },
    "kernelspec": {
      "display_name": "Python 3",
      "name": "python3"
    }
  },
  "cells": [
    {
      "cell_type": "markdown",
      "metadata": {
        "id": "view-in-github",
        "colab_type": "text"
      },
      "source": [
        "<a href=\"https://colab.research.google.com/github/ddelrio95/Python_Institute/blob/main/Welcome_To_Colaboratory.ipynb\" target=\"_parent\"><img src=\"https://colab.research.google.com/assets/colab-badge.svg\" alt=\"Open In Colab\"/></a>"
      ]
    },
    {
      "cell_type": "code",
      "metadata": {
        "id": "k_zLdfLJMODz",
        "colab": {
          "base_uri": "https://localhost:8080/"
        },
        "outputId": "227ad6d5-35b0-4b35-c688-c5dc58c2b63d"
      },
      "source": [
        "print (\"hello\")"
      ],
      "execution_count": null,
      "outputs": [
        {
          "output_type": "stream",
          "text": [
            "hello\n"
          ],
          "name": "stdout"
        }
      ]
    },
    {
      "cell_type": "code",
      "metadata": {
        "id": "wrrccsvWbIta",
        "colab": {
          "base_uri": "https://localhost:8080/"
        },
        "outputId": "580520a5-a0dd-4e8c-a1e5-bb6a51548d88"
      },
      "source": [
        "a = int(input(\"enter the first number\"))\n",
        "b = int(input(\"enter the second number\"))\n",
        "sum = a + b\n",
        "print(\"sum:\", sum)"
      ],
      "execution_count": null,
      "outputs": [
        {
          "output_type": "stream",
          "text": [
            "enter the first number5\n",
            "enter the second number6\n",
            "sum: 11\n"
          ],
          "name": "stdout"
        }
      ]
    },
    {
      "cell_type": "code",
      "metadata": {
        "id": "7scG1ZZhibF7",
        "colab": {
          "base_uri": "https://localhost:8080/"
        },
        "outputId": "6bca8796-4b87-444d-ffb7-62ebb6e6a946"
      },
      "source": [
        "if sum <= 10:\n",
        "  print(\"Es menor\")\n",
        "else:\n",
        "    print(\"Es mayor\")\n",
        "\n",
        "\n"
      ],
      "execution_count": null,
      "outputs": [
        {
          "output_type": "stream",
          "text": [
            "Es mayor\n"
          ],
          "name": "stdout"
        }
      ]
    },
    {
      "cell_type": "code",
      "metadata": {
        "id": "DQH2AobXRbda",
        "colab": {
          "base_uri": "https://localhost:8080/"
        },
        "outputId": "e62c9dae-c093-4dac-ad92-bdea1dd5b1ee"
      },
      "source": [
        "a = int(input(\"Enter the number: \"))\n",
        "if (a % 2) == 0:\n",
        "  print(\"The number is Even\")\n",
        "else:\n",
        "    print(\"The number is Odd\")"
      ],
      "execution_count": null,
      "outputs": [
        {
          "output_type": "stream",
          "text": [
            "Enter the number: 44\n",
            "The number is Even\n"
          ],
          "name": "stdout"
        }
      ]
    },
    {
      "cell_type": "code",
      "metadata": {
        "id": "aW2_-LRgLKxV",
        "colab": {
          "base_uri": "https://localhost:8080/"
        },
        "outputId": "d7253bee-d704-4208-f193-681a09371cb6"
      },
      "source": [
        "print(\"My\", \"name\", \"is\", \"Monty\", \"Python.\", sep=\"-\")\n"
      ],
      "execution_count": null,
      "outputs": [
        {
          "output_type": "stream",
          "text": [
            "My-name-is-Monty-Python.\n"
          ],
          "name": "stdout"
        }
      ]
    },
    {
      "cell_type": "code",
      "metadata": {
        "id": "2nhWupUPG8NC",
        "colab": {
          "base_uri": "https://localhost:8080/"
        },
        "outputId": "a3f781f8-6565-45f4-a252-3ae839e61431"
      },
      "source": [
        "print(\"    *\")\n",
        "print(\"   * *\")\n",
        "print(\"  *   *\")\n",
        "print(\" *     *\")\n",
        "print(\"***   ***\")\n",
        "print(\"  *   *\")\n",
        "print(\"  *   *\")\n",
        "print(\"  *****\")"
      ],
      "execution_count": null,
      "outputs": [
        {
          "output_type": "stream",
          "text": [
            "    *\n",
            "   * *\n",
            "  *   *\n",
            " *     *\n",
            "***   ***\n",
            "  *   *\n",
            "  *   *\n",
            "  *****\n"
          ],
          "name": "stdout"
        }
      ]
    },
    {
      "cell_type": "code",
      "metadata": {
        "id": "qq9ilsliRn80",
        "outputId": "e0950282-f85f-44e4-8c74-e07c20d07d80",
        "colab": {
          "base_uri": "https://localhost:8080/"
        }
      },
      "source": [
        "print(\"I like \\\"Monty Python\\\"\")"
      ],
      "execution_count": 4,
      "outputs": [
        {
          "output_type": "stream",
          "text": [
            "I like \"Monty Python\"\n"
          ],
          "name": "stdout"
        }
      ]
    },
    {
      "cell_type": "code",
      "metadata": {
        "id": "9b4QlYO7SKDT",
        "outputId": "ab8e3b4a-c53e-4500-e8ee-b948c0ee9d97",
        "colab": {
          "base_uri": "https://localhost:8080/"
        }
      },
      "source": [
        "print('I like \"Monty Python\"')"
      ],
      "execution_count": 5,
      "outputs": [
        {
          "output_type": "stream",
          "text": [
            "I like \"Monty Python\"\n"
          ],
          "name": "stdout"
        }
      ]
    },
    {
      "cell_type": "code",
      "metadata": {
        "id": "5iPvXRXPUYQQ",
        "outputId": "88af8a98-3438-40e7-8489-f4e5f99feeaf",
        "colab": {
          "base_uri": "https://localhost:8080/"
        }
      },
      "source": [
        "print(2+2)"
      ],
      "execution_count": 6,
      "outputs": [
        {
          "output_type": "stream",
          "text": [
            "4\n"
          ],
          "name": "stdout"
        }
      ]
    },
    {
      "cell_type": "code",
      "metadata": {
        "id": "BS15PFu1UeLU",
        "outputId": "efd8dd83-5cc8-4972-a5a4-b7d4811283f5",
        "colab": {
          "base_uri": "https://localhost:8080/"
        }
      },
      "source": [
        "print(2 ** 3)\n",
        "print(2 ** 3.)\n",
        "print(2. ** 3)\n",
        "print(2. ** 3.)\n"
      ],
      "execution_count": 7,
      "outputs": [
        {
          "output_type": "stream",
          "text": [
            "8\n",
            "8.0\n",
            "8.0\n",
            "8.0\n"
          ],
          "name": "stdout"
        }
      ]
    },
    {
      "cell_type": "code",
      "metadata": {
        "id": "s2QIY321VD4A",
        "outputId": "82b9f6f4-25df-41b8-c834-84f896699f1c",
        "colab": {
          "base_uri": "https://localhost:8080/"
        }
      },
      "source": [
        "print(6 / 3)\n",
        "print(6 / 2.5)\n",
        "print(6. / 3)\n",
        "print(6. / 3.)"
      ],
      "execution_count": 12,
      "outputs": [
        {
          "output_type": "stream",
          "text": [
            "2.0\n",
            "2.4\n",
            "2.0\n",
            "2.0\n"
          ],
          "name": "stdout"
        }
      ]
    },
    {
      "cell_type": "code",
      "metadata": {
        "id": "j4jSV0uUVjA9",
        "outputId": "1696a901-e64d-4407-91c1-b4a695d684c8",
        "colab": {
          "base_uri": "https://localhost:8080/"
        }
      },
      "source": [
        "print(6//3)\n",
        "print(6//3.)\n",
        "print(-6.//4)\n",
        "print(6.// -4)"
      ],
      "execution_count": 19,
      "outputs": [
        {
          "output_type": "stream",
          "text": [
            "2\n",
            "2.0\n",
            "-2.0\n",
            "-2.0\n"
          ],
          "name": "stdout"
        }
      ]
    },
    {
      "cell_type": "code",
      "metadata": {
        "id": "VoxZkbbxWJiX",
        "outputId": "38ea2d44-0e7f-4812-9c76-214831481ad2",
        "colab": {
          "base_uri": "https://localhost:8080/"
        }
      },
      "source": [
        "print(12. % 2)"
      ],
      "execution_count": 24,
      "outputs": [
        {
          "output_type": "stream",
          "text": [
            "0.0\n"
          ],
          "name": "stdout"
        }
      ]
    }
  ]
}