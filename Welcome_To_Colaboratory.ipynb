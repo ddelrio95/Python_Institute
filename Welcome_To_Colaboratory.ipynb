{
  "nbformat": 4,
  "nbformat_minor": 0,
  "metadata": {
    "colab": {
      "name": "Welcome To Colaboratory",
      "provenance": [],
      "collapsed_sections": [],
      "toc_visible": true,
      "include_colab_link": true
    },
    "kernelspec": {
      "display_name": "Python 3",
      "name": "python3"
    }
  },
  "cells": [
    {
      "cell_type": "markdown",
      "metadata": {
        "id": "view-in-github",
        "colab_type": "text"
      },
      "source": [
        "<a href=\"https://colab.research.google.com/github/ddelrio95/Python_Institute/blob/main/Welcome_To_Colaboratory.ipynb\" target=\"_parent\"><img src=\"https://colab.research.google.com/assets/colab-badge.svg\" alt=\"Open In Colab\"/></a>"
      ]
    },
    {
      "cell_type": "code",
      "metadata": {
        "id": "k_zLdfLJMODz",
        "colab": {
          "base_uri": "https://localhost:8080/"
        },
        "outputId": "227ad6d5-35b0-4b35-c688-c5dc58c2b63d"
      },
      "source": [
        "print (\"hello\")"
      ],
      "execution_count": null,
      "outputs": [
        {
          "output_type": "stream",
          "text": [
            "hello\n"
          ],
          "name": "stdout"
        }
      ]
    },
    {
      "cell_type": "code",
      "metadata": {
        "id": "wrrccsvWbIta",
        "colab": {
          "base_uri": "https://localhost:8080/"
        },
        "outputId": "580520a5-a0dd-4e8c-a1e5-bb6a51548d88"
      },
      "source": [
        "a = int(input(\"enter the first number\"))\n",
        "b = int(input(\"enter the second number\"))\n",
        "sum = a + b\n",
        "print(\"sum:\", sum)"
      ],
      "execution_count": null,
      "outputs": [
        {
          "output_type": "stream",
          "text": [
            "enter the first number5\n",
            "enter the second number6\n",
            "sum: 11\n"
          ],
          "name": "stdout"
        }
      ]
    },
    {
      "cell_type": "code",
      "metadata": {
        "id": "7scG1ZZhibF7",
        "colab": {
          "base_uri": "https://localhost:8080/"
        },
        "outputId": "6bca8796-4b87-444d-ffb7-62ebb6e6a946"
      },
      "source": [
        "if sum <= 10:\n",
        "  print(\"Es menor\")\n",
        "else:\n",
        "    print(\"Es mayor\")\n",
        "\n",
        "\n"
      ],
      "execution_count": null,
      "outputs": [
        {
          "output_type": "stream",
          "text": [
            "Es mayor\n"
          ],
          "name": "stdout"
        }
      ]
    },
    {
      "cell_type": "code",
      "metadata": {
        "id": "DQH2AobXRbda",
        "outputId": "e62c9dae-c093-4dac-ad92-bdea1dd5b1ee",
        "colab": {
          "base_uri": "https://localhost:8080/"
        }
      },
      "source": [
        "a = int(input(\"Enter the number: \"))\n",
        "if (a % 2) == 0:\n",
        "  print(\"The number is Even\")\n",
        "else:\n",
        "    print(\"The number is Odd\")"
      ],
      "execution_count": 10,
      "outputs": [
        {
          "output_type": "stream",
          "text": [
            "Enter the number: 44\n",
            "The number is Even\n"
          ],
          "name": "stdout"
        }
      ]
    },
    {
      "cell_type": "code",
      "metadata": {
        "id": "Yf7n4VAVZ5kT"
      },
      "source": [
        ""
      ],
      "execution_count": null,
      "outputs": []
    }
  ]
}