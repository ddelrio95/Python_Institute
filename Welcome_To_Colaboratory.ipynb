{
  "nbformat": 4,
  "nbformat_minor": 0,
  "metadata": {
    "colab": {
      "name": "Welcome To Colaboratory",
      "provenance": [],
      "collapsed_sections": [],
      "toc_visible": true,
      "include_colab_link": true
    },
    "kernelspec": {
      "display_name": "Python 3",
      "name": "python3"
    }
  },
  "cells": [
    {
      "cell_type": "markdown",
      "metadata": {
        "id": "view-in-github",
        "colab_type": "text"
      },
      "source": [
        "<a href=\"https://colab.research.google.com/github/ddelrio95/Python_Institute/blob/main/Welcome_To_Colaboratory.ipynb\" target=\"_parent\"><img src=\"https://colab.research.google.com/assets/colab-badge.svg\" alt=\"Open In Colab\"/></a>"
      ]
    },
    {
      "cell_type": "code",
      "metadata": {
        "id": "9GP0TNjkpgND"
      },
      "source": [
        "class Person: #Create a class named Person, with firstname and lastname properties, and a printname method:\n",
        "  def __init__(self, fname, lname):\n",
        "    self.firstname = fname\n",
        "    self.lastname = lname\n",
        "\n",
        "  def printname(self):\n",
        "    print(self.firstname, self.lastname)\n"
      ],
      "execution_count": 5,
      "outputs": []
    },
    {
      "cell_type": "code",
      "metadata": {
        "id": "q-9zfNjWquf8"
      },
      "source": [
        "x = Person(\"John\", \"Doe\") # Use the Person class to create an Object, then excecute the print method:\n",
        "x.printname()"
      ],
      "execution_count": null,
      "outputs": []
    },
    {
      "cell_type": "code",
      "metadata": {
        "id": "65U2Z_risYGe"
      },
      "source": [
        "class Patients: # Create a class calles Patients, with firstname and lastname\n",
        "  def __init__ (self, fname1, lname2):\n",
        "    self.patientfirstname = fname1\n",
        "    self.patientlastname = lname2\n",
        "\n",
        "  def printfullname(self):\n",
        "    print(self.patientfirstname, self.patientlastname)"
      ],
      "execution_count": 26,
      "outputs": []
    },
    {
      "cell_type": "code",
      "metadata": {
        "id": "2U8cXJOiyfnv"
      },
      "source": [
        "  x = Patients('Olivia','Liam') \n",
        "  x.printfullname()"
      ],
      "execution_count": null,
      "outputs": []
    }
  ]
}