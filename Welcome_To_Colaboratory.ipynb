{
  "nbformat": 4,
  "nbformat_minor": 0,
  "metadata": {
    "colab": {
      "name": "Welcome To Colaboratory",
      "provenance": [],
      "collapsed_sections": [],
      "include_colab_link": true
    },
    "kernelspec": {
      "display_name": "Python 3",
      "name": "python3"
    }
  },
  "cells": [
    {
      "cell_type": "markdown",
      "metadata": {
        "id": "view-in-github",
        "colab_type": "text"
      },
      "source": [
        "<a href=\"https://colab.research.google.com/github/ddelrio95/Python_Institute/blob/main/Welcome_To_Colaboratory.ipynb\" target=\"_parent\"><img src=\"https://colab.research.google.com/assets/colab-badge.svg\" alt=\"Open In Colab\"/></a>"
      ]
    },
    {
      "cell_type": "code",
      "metadata": {
        "id": "k_zLdfLJMODz",
        "colab": {
          "base_uri": "https://localhost:8080/"
        },
        "outputId": "227ad6d5-35b0-4b35-c688-c5dc58c2b63d"
      },
      "source": [
        "print (\"hello\")"
      ],
      "execution_count": null,
      "outputs": [
        {
          "output_type": "stream",
          "text": [
            "hello\n"
          ],
          "name": "stdout"
        }
      ]
    },
    {
      "cell_type": "code",
      "metadata": {
        "id": "wrrccsvWbIta",
        "colab": {
          "base_uri": "https://localhost:8080/"
        },
        "outputId": "580520a5-a0dd-4e8c-a1e5-bb6a51548d88"
      },
      "source": [
        "a = int(input(\"enter the first number\"))\n",
        "b = int(input(\"enter the second number\"))\n",
        "sum = a + b\n",
        "print(\"sum:\", sum)"
      ],
      "execution_count": null,
      "outputs": [
        {
          "output_type": "stream",
          "text": [
            "enter the first number5\n",
            "enter the second number6\n",
            "sum: 11\n"
          ],
          "name": "stdout"
        }
      ]
    },
    {
      "cell_type": "code",
      "metadata": {
        "id": "7scG1ZZhibF7",
        "colab": {
          "base_uri": "https://localhost:8080/"
        },
        "outputId": "6bca8796-4b87-444d-ffb7-62ebb6e6a946"
      },
      "source": [
        "if sum <= 10:\n",
        "  print(\"Es menor\")\n",
        "else:\n",
        "    print(\"Es mayor\")\n",
        "\n",
        "\n"
      ],
      "execution_count": null,
      "outputs": [
        {
          "output_type": "stream",
          "text": [
            "Es mayor\n"
          ],
          "name": "stdout"
        }
      ]
    },
    {
      "cell_type": "code",
      "metadata": {
        "id": "DQH2AobXRbda",
        "colab": {
          "base_uri": "https://localhost:8080/"
        },
        "outputId": "e62c9dae-c093-4dac-ad92-bdea1dd5b1ee"
      },
      "source": [
        "a = int(input(\"Enter the number: \"))\n",
        "if (a % 2) == 0:\n",
        "  print(\"The number is Even\")\n",
        "else:\n",
        "    print(\"The number is Odd\")"
      ],
      "execution_count": null,
      "outputs": [
        {
          "output_type": "stream",
          "text": [
            "Enter the number: 44\n",
            "The number is Even\n"
          ],
          "name": "stdout"
        }
      ]
    },
    {
      "cell_type": "code",
      "metadata": {
        "id": "aW2_-LRgLKxV",
        "colab": {
          "base_uri": "https://localhost:8080/"
        },
        "outputId": "d7253bee-d704-4208-f193-681a09371cb6"
      },
      "source": [
        "print(\"My\", \"name\", \"is\", \"Monty\", \"Python.\", sep=\"-\")\n"
      ],
      "execution_count": null,
      "outputs": [
        {
          "output_type": "stream",
          "text": [
            "My-name-is-Monty-Python.\n"
          ],
          "name": "stdout"
        }
      ]
    },
    {
      "cell_type": "code",
      "metadata": {
        "id": "2nhWupUPG8NC",
        "colab": {
          "base_uri": "https://localhost:8080/"
        },
        "outputId": "a3f781f8-6565-45f4-a252-3ae839e61431"
      },
      "source": [
        "print(\"    *\")\n",
        "print(\"   * *\")\n",
        "print(\"  *   *\")\n",
        "print(\" *     *\")\n",
        "print(\"***   ***\")\n",
        "print(\"  *   *\")\n",
        "print(\"  *   *\")\n",
        "print(\"  *****\")"
      ],
      "execution_count": null,
      "outputs": [
        {
          "output_type": "stream",
          "text": [
            "    *\n",
            "   * *\n",
            "  *   *\n",
            " *     *\n",
            "***   ***\n",
            "  *   *\n",
            "  *   *\n",
            "  *****\n"
          ],
          "name": "stdout"
        }
      ]
    },
    {
      "cell_type": "code",
      "metadata": {
        "id": "qq9ilsliRn80",
        "colab": {
          "base_uri": "https://localhost:8080/"
        },
        "outputId": "e0950282-f85f-44e4-8c74-e07c20d07d80"
      },
      "source": [
        "print(\"I like \\\"Monty Python\\\"\")"
      ],
      "execution_count": null,
      "outputs": [
        {
          "output_type": "stream",
          "text": [
            "I like \"Monty Python\"\n"
          ],
          "name": "stdout"
        }
      ]
    },
    {
      "cell_type": "code",
      "metadata": {
        "id": "9b4QlYO7SKDT",
        "colab": {
          "base_uri": "https://localhost:8080/"
        },
        "outputId": "ab8e3b4a-c53e-4500-e8ee-b948c0ee9d97"
      },
      "source": [
        "print('I like \"Monty Python\"')"
      ],
      "execution_count": null,
      "outputs": [
        {
          "output_type": "stream",
          "text": [
            "I like \"Monty Python\"\n"
          ],
          "name": "stdout"
        }
      ]
    },
    {
      "cell_type": "code",
      "metadata": {
        "id": "5iPvXRXPUYQQ",
        "colab": {
          "base_uri": "https://localhost:8080/"
        },
        "outputId": "88af8a98-3438-40e7-8489-f4e5f99feeaf"
      },
      "source": [
        "print(2+2)"
      ],
      "execution_count": null,
      "outputs": [
        {
          "output_type": "stream",
          "text": [
            "4\n"
          ],
          "name": "stdout"
        }
      ]
    },
    {
      "cell_type": "code",
      "metadata": {
        "id": "BS15PFu1UeLU",
        "colab": {
          "base_uri": "https://localhost:8080/"
        },
        "outputId": "efd8dd83-5cc8-4972-a5a4-b7d4811283f5"
      },
      "source": [
        "print(2 ** 3)\n",
        "print(2 ** 3.)\n",
        "print(2. ** 3)\n",
        "print(2. ** 3.)\n"
      ],
      "execution_count": null,
      "outputs": [
        {
          "output_type": "stream",
          "text": [
            "8\n",
            "8.0\n",
            "8.0\n",
            "8.0\n"
          ],
          "name": "stdout"
        }
      ]
    },
    {
      "cell_type": "code",
      "metadata": {
        "id": "s2QIY321VD4A",
        "colab": {
          "base_uri": "https://localhost:8080/"
        },
        "outputId": "82b9f6f4-25df-41b8-c834-84f896699f1c"
      },
      "source": [
        "print(6 / 3)\n",
        "print(6 / 2.5)\n",
        "print(6. / 3)\n",
        "print(6. / 3.)"
      ],
      "execution_count": null,
      "outputs": [
        {
          "output_type": "stream",
          "text": [
            "2.0\n",
            "2.4\n",
            "2.0\n",
            "2.0\n"
          ],
          "name": "stdout"
        }
      ]
    },
    {
      "cell_type": "code",
      "metadata": {
        "id": "j4jSV0uUVjA9",
        "colab": {
          "base_uri": "https://localhost:8080/"
        },
        "outputId": "1696a901-e64d-4407-91c1-b4a695d684c8"
      },
      "source": [
        "print(6//3)\n",
        "print(6//3.)\n",
        "print(-6.//4)\n",
        "print(6.// -4)"
      ],
      "execution_count": null,
      "outputs": [
        {
          "output_type": "stream",
          "text": [
            "2\n",
            "2.0\n",
            "-2.0\n",
            "-2.0\n"
          ],
          "name": "stdout"
        }
      ]
    },
    {
      "cell_type": "code",
      "metadata": {
        "id": "VoxZkbbxWJiX",
        "colab": {
          "base_uri": "https://localhost:8080/"
        },
        "outputId": "38ea2d44-0e7f-4812-9c76-214831481ad2"
      },
      "source": [
        "print(12. % 2)"
      ],
      "execution_count": null,
      "outputs": [
        {
          "output_type": "stream",
          "text": [
            "0.0\n"
          ],
          "name": "stdout"
        }
      ]
    },
    {
      "cell_type": "code",
      "metadata": {
        "colab": {
          "base_uri": "https://localhost:8080/"
        },
        "id": "lZuyYDPqgg7H",
        "outputId": "85ac9728-23ca-4791-cdbd-e0ea4a1d3418"
      },
      "source": [
        "print(9 % 6 % 2.)"
      ],
      "execution_count": null,
      "outputs": [
        {
          "output_type": "stream",
          "text": [
            "1.0\n"
          ],
          "name": "stdout"
        }
      ]
    },
    {
      "cell_type": "code",
      "metadata": {
        "colab": {
          "base_uri": "https://localhost:8080/"
        },
        "id": "T-i0EJMogvQd",
        "outputId": "9ae8b962-ff89-4efd-b972-25e4c66f8a1a"
      },
      "source": [
        "print(2. ** 2 ** 3)"
      ],
      "execution_count": null,
      "outputs": [
        {
          "output_type": "stream",
          "text": [
            "256.0\n"
          ],
          "name": "stdout"
        }
      ]
    },
    {
      "cell_type": "code",
      "metadata": {
        "colab": {
          "base_uri": "https://localhost:8080/"
        },
        "id": "OME5QBPsg49z",
        "outputId": "0b88e5db-f22e-4379-c9d2-cd24973b23e9"
      },
      "source": [
        "print((5 * ((25 % 13) + 100) / (2 * 13)) // 2)"
      ],
      "execution_count": null,
      "outputs": [
        {
          "output_type": "stream",
          "text": [
            "10.0\n"
          ],
          "name": "stdout"
        }
      ]
    },
    {
      "cell_type": "code",
      "metadata": {
        "colab": {
          "base_uri": "https://localhost:8080/"
        },
        "id": "aFIQFB2NhBev",
        "outputId": "e6404b89-f229-4c0b-a18d-b51b086a0392"
      },
      "source": [
        "print((2 ** 4), (2 * 4.), (2 * 4))"
      ],
      "execution_count": null,
      "outputs": [
        {
          "output_type": "stream",
          "text": [
            "16 8.0 8\n"
          ],
          "name": "stdout"
        }
      ]
    },
    {
      "cell_type": "code",
      "metadata": {
        "colab": {
          "base_uri": "https://localhost:8080/"
        },
        "id": "igSX_hyphbrI",
        "outputId": "70bd701f-c0e4-4697-f07a-e87c656a39ab"
      },
      "source": [
        "var = 1\n",
        "print(var)"
      ],
      "execution_count": null,
      "outputs": [
        {
          "output_type": "stream",
          "text": [
            "1\n"
          ],
          "name": "stdout"
        }
      ]
    },
    {
      "cell_type": "code",
      "metadata": {
        "colab": {
          "base_uri": "https://localhost:8080/"
        },
        "id": "qJBdhqiLhkQu",
        "outputId": "15beae1a-9a45-4606-c84d-938aa776ea9f"
      },
      "source": [
        "var = 1\n",
        "account_balance = 1000.0\n",
        "client_name = 'John Doe'\n",
        "print(var, account_balance, client_name)\n",
        "print(var)"
      ],
      "execution_count": null,
      "outputs": [
        {
          "output_type": "stream",
          "text": [
            "1 1000.0 John Doe\n",
            "1\n"
          ],
          "name": "stdout"
        }
      ]
    },
    {
      "cell_type": "code",
      "metadata": {
        "colab": {
          "base_uri": "https://localhost:8080/"
        },
        "id": "g32HI7mAh_3H",
        "outputId": "92bb0cdb-603f-436f-8591-c88bf061df66"
      },
      "source": [
        "var = 1\n",
        "print(var)\n",
        "var = var + 1\n",
        "print(var)"
      ],
      "execution_count": null,
      "outputs": [
        {
          "output_type": "stream",
          "text": [
            "1\n",
            "2\n"
          ],
          "name": "stdout"
        }
      ]
    },
    {
      "cell_type": "code",
      "metadata": {
        "colab": {
          "base_uri": "https://localhost:8080/"
        },
        "id": "YCG75Un8iN30",
        "outputId": "a2a02db8-2c05-4172-926d-24c1743f8216"
      },
      "source": [
        "var = 100\n",
        "var = 200 + 300\n",
        "print(var)"
      ],
      "execution_count": null,
      "outputs": [
        {
          "output_type": "stream",
          "text": [
            "500\n"
          ],
          "name": "stdout"
        }
      ]
    },
    {
      "cell_type": "code",
      "metadata": {
        "id": "Ov6led2y7wmH",
        "colab": {
          "base_uri": "https://localhost:8080/"
        },
        "outputId": "df06a98c-cc35-4a9b-8993-c5482dcb3dea"
      },
      "source": [
        "print((5 * ((25 % 13) + 100) / (2 * 13)) // 2)\n"
      ],
      "execution_count": null,
      "outputs": [
        {
          "output_type": "stream",
          "text": [
            "10.0\n"
          ],
          "name": "stdout"
        }
      ]
    },
    {
      "cell_type": "code",
      "metadata": {
        "id": "Js7_3J1fE19W",
        "colab": {
          "base_uri": "https://localhost:8080/"
        },
        "outputId": "6e12a66a-91e3-46df-8d62-cb5db1f1aa03"
      },
      "source": [
        "john = 3\n",
        "mary = 5\n",
        "adam = 6\n",
        "print(\"john, mary, adam\")\n",
        "total_apples = john + mary + adam\n",
        "print(total_apples)"
      ],
      "execution_count": null,
      "outputs": [
        {
          "output_type": "stream",
          "text": [
            "john, mary, adam\n",
            "14\n"
          ],
          "name": "stdout"
        }
      ]
    },
    {
      "cell_type": "markdown",
      "metadata": {
        "id": "uYi08zGVKKuy"
      },
      "source": [
        "Shorcuts operators\n"
      ]
    },
    {
      "cell_type": "code",
      "metadata": {
        "id": "6495MY-wI24Z",
        "colab": {
          "base_uri": "https://localhost:8080/"
        },
        "outputId": "0230ebc3-2011-47be-8462-dd799706a667"
      },
      "source": [
        "sheep = 2\n",
        "sheep = sheep + 1\n",
        "print('sheep')"
      ],
      "execution_count": null,
      "outputs": [
        {
          "output_type": "stream",
          "text": [
            "sheep\n"
          ],
          "name": "stdout"
        }
      ]
    },
    {
      "cell_type": "code",
      "metadata": {
        "id": "T23mdbk4JQGA"
      },
      "source": [
        "x *= 2\n"
      ],
      "execution_count": null,
      "outputs": []
    },
    {
      "cell_type": "code",
      "metadata": {
        "id": "sv77Fin7Ji8M",
        "colab": {
          "base_uri": "https://localhost:8080/"
        },
        "outputId": "824ce432-b3f8-4343-faf6-0c8bcded5530"
      },
      "source": [
        "sheep += 1\n",
        "print('sheep')"
      ],
      "execution_count": null,
      "outputs": [
        {
          "output_type": "stream",
          "text": [
            "sheep\n"
          ],
          "name": "stdout"
        }
      ]
    },
    {
      "cell_type": "markdown",
      "metadata": {
        "id": "JzAUS0Q0KGIB"
      },
      "source": [
        "variable = variable op expression also shown as (variable op = expression)\n",
        "\n",
        "i = i + 2 * j   ⇒   i += 2 * j\n",
        "\n",
        "var = var / 2   ⇒   var /= 2\n",
        "\n",
        "rem = rem % 10   ⇒   rem %= 10\n",
        "\n",
        "j = j - (i + var + rem)   ⇒   j -= (i + var + rem)\n",
        "\n",
        "x = x ** 2   ⇒   x **= 2"
      ]
    },
    {
      "cell_type": "code",
      "metadata": {
        "id": "J2Osjg9WK4xr",
        "colab": {
          "base_uri": "https://localhost:8080/",
          "height": 180
        },
        "outputId": "d37790c6-5658-4981-896b-6bc105f66641"
      },
      "source": [
        "i = i + 2 * j\n",
        "i += 2 * j"
      ],
      "execution_count": null,
      "outputs": [
        {
          "output_type": "error",
          "ename": "NameError",
          "evalue": "ignored",
          "traceback": [
            "\u001b[0;31m---------------------------------------------------------------------------\u001b[0m",
            "\u001b[0;31mNameError\u001b[0m                                 Traceback (most recent call last)",
            "\u001b[0;32m<ipython-input-21-b341132c88a4>\u001b[0m in \u001b[0;36m<module>\u001b[0;34m()\u001b[0m\n\u001b[0;32m----> 1\u001b[0;31m \u001b[0mi\u001b[0m \u001b[0;34m=\u001b[0m \u001b[0mi\u001b[0m \u001b[0;34m+\u001b[0m \u001b[0;36m2\u001b[0m \u001b[0;34m*\u001b[0m \u001b[0mj\u001b[0m\u001b[0;34m\u001b[0m\u001b[0;34m\u001b[0m\u001b[0m\n\u001b[0m\u001b[1;32m      2\u001b[0m \u001b[0mi\u001b[0m \u001b[0;34m+=\u001b[0m \u001b[0;36m2\u001b[0m \u001b[0;34m*\u001b[0m \u001b[0mj\u001b[0m\u001b[0;34m\u001b[0m\u001b[0;34m\u001b[0m\u001b[0m\n",
            "\u001b[0;31mNameError\u001b[0m: name 'i' is not defined"
          ]
        }
      ]
    },
    {
      "cell_type": "code",
      "metadata": {
        "id": "N8lHE4Q7Pm21",
        "colab": {
          "base_uri": "https://localhost:8080/"
        },
        "outputId": "e94a42ec-12de-4213-a0ac-232a0e9e4855"
      },
      "source": [
        "kilometers = 12.25\n",
        "miles = 7.38\n",
        "ratio = 1.60934\n",
        "\n",
        "miles_to_kilometers = miles * ratio ###\n",
        "kilometers_to_miles = kilometers / ratio ###\n",
        "\n",
        "print(miles, \"miles is\", round(miles_to_kilometers, 2), \"kilometers\")\n",
        "print(kilometers, \"kilometers is\", round(kilometers_to_miles, 2), \"miles\")"
      ],
      "execution_count": null,
      "outputs": [
        {
          "output_type": "stream",
          "text": [
            "7.38 miles is 11.88 kilometers\n",
            "12.25 kilometers is 7.61 miles\n"
          ],
          "name": "stdout"
        }
      ]
    },
    {
      "cell_type": "code",
      "metadata": {
        "id": "lxfLLlBsSoCQ",
        "colab": {
          "base_uri": "https://localhost:8080/"
        },
        "outputId": "a068384f-6247-408b-f425-67d400771480"
      },
      "source": [
        "var = \"007\"\n",
        "print(\"Agent \" + var)\n"
      ],
      "execution_count": null,
      "outputs": [
        {
          "output_type": "stream",
          "text": [
            "Agent 007\n"
          ],
          "name": "stdout"
        }
      ]
    },
    {
      "cell_type": "code",
      "metadata": {
        "id": "4LUnkUK-TEKj",
        "colab": {
          "base_uri": "https://localhost:8080/"
        },
        "outputId": "d0cb39e2-9c06-4f15-b247-5125a3862d2a"
      },
      "source": [
        "a = '1'\n",
        "b = '1'\n",
        "print (a + b) #this is a commnet"
      ],
      "execution_count": null,
      "outputs": [
        {
          "output_type": "stream",
          "text": [
            "11\n"
          ],
          "name": "stdout"
        }
      ]
    },
    {
      "cell_type": "markdown",
      "metadata": {
        "id": "nnyrp9rPUrky"
      },
      "source": [
        "Inputs"
      ]
    },
    {
      "cell_type": "code",
      "metadata": {
        "id": "PNLEfLlTUwTi",
        "colab": {
          "base_uri": "https://localhost:8080/"
        },
        "outputId": "9c439009-508f-4afa-9608-aa51b4015bf9"
      },
      "source": [
        "print(\"Tell me anything...\")\n",
        "anything = input()\n",
        "print(\"Hmm...\", anything, \"... Really?\")"
      ],
      "execution_count": null,
      "outputs": [
        {
          "output_type": "stream",
          "text": [
            "Tell me anything...\n",
            "cscsc\n",
            "Hmm... cscsc ... Really?\n"
          ],
          "name": "stdout"
        }
      ]
    },
    {
      "cell_type": "code",
      "metadata": {
        "id": "MlZBX8wsVA5O",
        "colab": {
          "base_uri": "https://localhost:8080/"
        },
        "outputId": "4c420986-e9d9-49d1-b0ef-1b116de7c1d6"
      },
      "source": [
        "anything = input(\"Tell me anything...\")\n",
        "print(\"Hmm...\", anything, \"...Really?\")"
      ],
      "execution_count": null,
      "outputs": [
        {
          "output_type": "stream",
          "text": [
            "Tell me anything...asas\n",
            "Hmm... asas ...Really?\n"
          ],
          "name": "stdout"
        }
      ]
    },
    {
      "cell_type": "code",
      "metadata": {
        "id": "lyRqoaMCVZsF",
        "colab": {
          "base_uri": "https://localhost:8080/",
          "height": 214
        },
        "outputId": "aae469b7-06f5-412b-edb5-35474d0e9a39"
      },
      "source": [
        "anything = input(\"Enter a number: \")\n",
        "something = anything ** 2.0\n",
        "print(anything, \"to the power of 2 is\", something)"
      ],
      "execution_count": null,
      "outputs": [
        {
          "output_type": "stream",
          "text": [
            "Enter a number: 4\n"
          ],
          "name": "stdout"
        },
        {
          "output_type": "error",
          "ename": "TypeError",
          "evalue": "ignored",
          "traceback": [
            "\u001b[0;31m---------------------------------------------------------------------------\u001b[0m",
            "\u001b[0;31mTypeError\u001b[0m                                 Traceback (most recent call last)",
            "\u001b[0;32m<ipython-input-36-cf85aa8c229a>\u001b[0m in \u001b[0;36m<module>\u001b[0;34m()\u001b[0m\n\u001b[1;32m      1\u001b[0m \u001b[0manything\u001b[0m \u001b[0;34m=\u001b[0m \u001b[0minput\u001b[0m\u001b[0;34m(\u001b[0m\u001b[0;34m\"Enter a number: \"\u001b[0m\u001b[0;34m)\u001b[0m\u001b[0;34m\u001b[0m\u001b[0;34m\u001b[0m\u001b[0m\n\u001b[0;32m----> 2\u001b[0;31m \u001b[0msomething\u001b[0m \u001b[0;34m=\u001b[0m \u001b[0manything\u001b[0m \u001b[0;34m**\u001b[0m \u001b[0;36m2.0\u001b[0m\u001b[0;34m\u001b[0m\u001b[0;34m\u001b[0m\u001b[0m\n\u001b[0m\u001b[1;32m      3\u001b[0m \u001b[0mprint\u001b[0m\u001b[0;34m(\u001b[0m\u001b[0manything\u001b[0m\u001b[0;34m,\u001b[0m \u001b[0;34m\"to the power of 2 is\"\u001b[0m\u001b[0;34m,\u001b[0m \u001b[0msomething\u001b[0m\u001b[0;34m)\u001b[0m\u001b[0;34m\u001b[0m\u001b[0;34m\u001b[0m\u001b[0m\n",
            "\u001b[0;31mTypeError\u001b[0m: unsupported operand type(s) for ** or pow(): 'str' and 'float'"
          ]
        }
      ]
    },
    {
      "cell_type": "code",
      "metadata": {
        "id": "bnJWvWdSWTSy",
        "colab": {
          "base_uri": "https://localhost:8080/"
        },
        "outputId": "091e72af-d50f-4d75-d798-25adca4ab45f"
      },
      "source": [
        "# Testing TypeError message.\n",
        "\n",
        "anything = int(input(\"Enter a number: \"))\n",
        "something = anything ** 2\n",
        "print(anything, \"to the power of 2 is\", something)\n"
      ],
      "execution_count": null,
      "outputs": [
        {
          "output_type": "stream",
          "text": [
            "Enter a number: 3\n",
            "3 to the power of 2 is 9\n"
          ],
          "name": "stdout"
        }
      ]
    },
    {
      "cell_type": "code",
      "metadata": {
        "id": "U8jihHL8W4kx",
        "colab": {
          "base_uri": "https://localhost:8080/"
        },
        "outputId": "9f11078c-26a0-477d-c15e-05a43ee04131"
      },
      "source": [
        "anything = float(input(\"Enter a number: \"))\n",
        "something = anything ** 2.0\n",
        "print(anything, \"to the power of 2 is\", something)"
      ],
      "execution_count": null,
      "outputs": [
        {
          "output_type": "stream",
          "text": [
            "Enter a number: 34\n",
            "34.0 to the power of 2 is 1156.0\n"
          ],
          "name": "stdout"
        }
      ]
    },
    {
      "cell_type": "code",
      "metadata": {
        "id": "MqUYqqDNvRoZ"
      },
      "source": [
        "leg_a = float(input(\"Input first leg length: \"))\n",
        "leg_b = float(input(\"Input second leg length: \"))\n",
        "hypo = (leg_a**2 + leg_b**2) ** .5\n",
        "print(\"Hypotenuse length is\", hypo)\n"
      ],
      "execution_count": null,
      "outputs": []
    },
    {
      "cell_type": "code",
      "metadata": {
        "id": "q3Loxww7MglX"
      },
      "source": [
        "name = input(\"Give me your name: \")\n",
        "print(\"Your name is \" + name)\n",
        "\n"
      ],
      "execution_count": null,
      "outputs": []
    },
    {
      "cell_type": "code",
      "metadata": {
        "id": "wx3JPqRwP-an"
      },
      "source": [
        "age = int(input(\"Enter your age: \"))\n",
        "if age <= 18:\n",
        "  print(\"You are underage\")\n",
        "else: \n",
        "  print(\"The person is older\")"
      ],
      "execution_count": null,
      "outputs": []
    },
    {
      "cell_type": "code",
      "metadata": {
        "id": "oHK-3SSSQJ64"
      },
      "source": [
        "animals = ['dog', 'cat', 'bird', 'fish', 'lizard']\n",
        "pet = input(\"Enter the type of animal: \")\n",
        "if pet == 1:\n",
        "print(\"The animal is a \")"
      ],
      "execution_count": null,
      "outputs": []
    },
    {
      "cell_type": "code",
      "metadata": {
        "id": "30KhRzR4G1wI",
        "colab": {
          "base_uri": "https://localhost:8080/"
        },
        "outputId": "2965c1f8-c77c-401b-ebcb-474744dbe590"
      },
      "source": [
        "x = (\"apple\", \"banana\", \"cherry\")\n",
        "print(type(x))\n",
        "\n",
        "tuple\n"
      ],
      "execution_count": null,
      "outputs": [
        {
          "output_type": "stream",
          "text": [
            "<class 'tuple'>\n"
          ],
          "name": "stdout"
        },
        {
          "output_type": "execute_result",
          "data": {
            "text/plain": [
              "tuple"
            ]
          },
          "metadata": {
            "tags": []
          },
          "execution_count": 1
        }
      ]
    },
    {
      "cell_type": "code",
      "metadata": {
        "id": "kqY6zJkKQH3u"
      },
      "source": [
        "x = {\"name\" : \"John\", \"age\" : 36}\n",
        "print(type(x))\n",
        "\n",
        "dict\n"
      ],
      "execution_count": null,
      "outputs": []
    },
    {
      "cell_type": "code",
      "metadata": {
        "id": "phewPvr2QKHx"
      },
      "source": [
        "x = 5\n",
        "print(type(x))\n",
        "\n",
        "int\n"
      ],
      "execution_count": null,
      "outputs": []
    },
    {
      "cell_type": "code",
      "metadata": {
        "id": "u2WLUeZfQORU"
      },
      "source": [
        "\n",
        "x = {\"name\" : \"John\", \"age\" : 36}\n",
        "print(type(x))\n",
        "\n",
        "dict\n"
      ],
      "execution_count": null,
      "outputs": []
    },
    {
      "cell_type": "code",
      "metadata": {
        "id": "oQvqFeF8QQhQ"
      },
      "source": [
        "x = [\"apple\", \"banana\", \"cherry\"]\n",
        "print(type(x))\n",
        "\n",
        "list\n"
      ],
      "execution_count": null,
      "outputs": []
    },
    {
      "cell_type": "code",
      "metadata": {
        "id": "aFux5mYtQTCK"
      },
      "source": [
        "x = 20.5\n",
        "print(type(x))\n",
        "\n",
        "float\n"
      ],
      "execution_count": null,
      "outputs": []
    },
    {
      "cell_type": "markdown",
      "metadata": {
        "id": "p4zldNvOxWSM"
      },
      "source": [
        "Variables\n"
      ]
    },
    {
      "cell_type": "code",
      "metadata": {
        "id": "L7xTi2ioxZ4M"
      },
      "source": [
        "x = 5\n",
        "y = \"john\"\n",
        "print(str(y))"
      ],
      "execution_count": null,
      "outputs": []
    },
    {
      "cell_type": "markdown",
      "metadata": {
        "id": "aM7gd1cpzy5X"
      },
      "source": [
        "Another way of declaring variables"
      ]
    },
    {
      "cell_type": "code",
      "metadata": {
        "id": "t-UuA9razxbR"
      },
      "source": [
        "x, y, z = \"Orange\", \"Banana\", \"Cherry\"\n",
        "print(x)\n",
        "print(y)\n",
        "print(z)\n",
        "print(type(x))\n",
        "print(type(y))\n",
        "print(type(z))\n"
      ],
      "execution_count": null,
      "outputs": []
    },
    {
      "cell_type": "markdown",
      "metadata": {
        "id": "68KjDxRQ4ff1"
      },
      "source": [
        "One variable multiple values"
      ]
    },
    {
      "cell_type": "code",
      "metadata": {
        "id": "7aNYiQJx4eLH"
      },
      "source": [
        "x=y=z=\"Orange\"\n",
        "print(x)\n",
        "print(y)\n",
        "print(z)"
      ],
      "execution_count": null,
      "outputs": []
    },
    {
      "cell_type": "markdown",
      "metadata": {
        "id": "nV1oWqni47uj"
      },
      "source": [
        "Unpack a collection"
      ]
    },
    {
      "cell_type": "code",
      "metadata": {
        "id": "s1i0O4zS5D5j"
      },
      "source": [
        "fruits = [\"apple\", \"banana\", \"cherry\"]\n",
        "x, y, z = fruits\n",
        "print(x)\n",
        "print(y)\n",
        "print(z)\n",
        "print(fruits)"
      ],
      "execution_count": null,
      "outputs": []
    },
    {
      "cell_type": "markdown",
      "metadata": {
        "id": "1q-gwOgc51K7"
      },
      "source": [
        "Output variables\n"
      ]
    },
    {
      "cell_type": "code",
      "metadata": {
        "id": "UrRPkDCv55AC"
      },
      "source": [
        "x = \"Awesome\"\n",
        "print(\"Python is \" + x)"
      ],
      "execution_count": null,
      "outputs": []
    },
    {
      "cell_type": "code",
      "metadata": {
        "id": "UJrAHxMcAHu9"
      },
      "source": [
        "x = \"Python is \"\n",
        "y = \"awesome\"\n",
        "z = x + y\n",
        "\n",
        "print(z)"
      ],
      "execution_count": null,
      "outputs": []
    },
    {
      "cell_type": "code",
      "metadata": {
        "id": "KaCWoK7yBaoD"
      },
      "source": [
        "x = 5\n",
        "y = 10\n",
        "print(5 + 10)"
      ],
      "execution_count": null,
      "outputs": []
    },
    {
      "cell_type": "markdown",
      "metadata": {
        "id": "3erQ1I-EBxCy"
      },
      "source": [
        "Global variable"
      ]
    },
    {
      "cell_type": "code",
      "metadata": {
        "id": "6DJwF9sSBwU7",
        "colab": {
          "base_uri": "https://localhost:8080/"
        },
        "outputId": "eba3ffde-69be-4b9c-f9a2-62e4fc0cc4d0"
      },
      "source": [
        "x = \"awesome\"\n",
        "\n",
        "def myfunction():\n",
        "  print(\"Python is \" + x)\n",
        "\n",
        "myfunction()"
      ],
      "execution_count": null,
      "outputs": [
        {
          "output_type": "stream",
          "text": [
            "Python is awesome\n"
          ],
          "name": "stdout"
        }
      ]
    },
    {
      "cell_type": "code",
      "metadata": {
        "id": "6aiVG9kTDApS",
        "colab": {
          "base_uri": "https://localhost:8080/"
        },
        "outputId": "9095e36d-0ae5-4e43-ac96-7ee3a229f160"
      },
      "source": [
        "x = \"awesome\"\n",
        "def funct():\n",
        "    x = \"bad\"\n",
        "    print(\"Python is \" + x)\n",
        "funct()\n",
        "print(\"Python is \" + x)"
      ],
      "execution_count": null,
      "outputs": [
        {
          "output_type": "stream",
          "text": [
            "Python is bad\n",
            "Python is awesome\n"
          ],
          "name": "stdout"
        }
      ]
    },
    {
      "cell_type": "markdown",
      "metadata": {
        "id": "Sj-Zxwi1FNpf"
      },
      "source": [
        "Global keyword"
      ]
    },
    {
      "cell_type": "code",
      "metadata": {
        "id": "GIgHooKBFLFA",
        "colab": {
          "base_uri": "https://localhost:8080/"
        },
        "outputId": "57ba64b9-e610-4351-93b5-b8974c4f89ad"
      },
      "source": [
        "x = \"feo\"\n",
        "def fun():\n",
        "  global x\n",
        "  x = \"fantastic\"\n",
        "\n",
        "fun()\n",
        "print(\"Python is \" + x)\n"
      ],
      "execution_count": null,
      "outputs": [
        {
          "output_type": "stream",
          "text": [
            "Python is fantastic\n"
          ],
          "name": "stdout"
        }
      ]
    },
    {
      "cell_type": "markdown",
      "metadata": {
        "id": "4MbGHxU3R8xT"
      },
      "source": [
        "Text Type:\tstr\n",
        "Numeric Types:\tint, float, complex\n",
        "Sequence Types:\tlist, tuple, range\n",
        "Mapping Type:\tdict\n",
        "Set Types:\tset, frozenset\n",
        "Boolean Type:\tbool\n",
        "Binary Types:\tbytes, bytearray, memoryview"
      ]
    },
    {
      "cell_type": "code",
      "metadata": {
        "id": "eGPs62CmUD-C"
      },
      "source": [
        "x = \"awesome\"\n",
        "def myfunc():\n",
        "  global x\n",
        "  x = \"bad\"\n",
        "\n",
        "myfunc()\n",
        "print(\"Python is \" + x)"
      ],
      "execution_count": null,
      "outputs": []
    },
    {
      "cell_type": "markdown",
      "metadata": {
        "id": "HY-tRIr1VDhw"
      },
      "source": [
        "Data type\n"
      ]
    },
    {
      "cell_type": "code",
      "metadata": {
        "colab": {
          "base_uri": "https://localhost:8080/"
        },
        "id": "r2Ua9HJDVDF8",
        "outputId": "703164aa-8c7a-48ab-c73a-b3e5bf79c6c1"
      },
      "source": [
        "x = 5\n",
        "print(type(x))"
      ],
      "execution_count": 13,
      "outputs": [
        {
          "output_type": "stream",
          "text": [
            "<class 'int'>\n"
          ],
          "name": "stdout"
        }
      ]
    },
    {
      "cell_type": "code",
      "metadata": {
        "colab": {
          "base_uri": "https://localhost:8080/"
        },
        "id": "-wZKtctRVarc",
        "outputId": "18b4016f-8ea7-47bf-946e-4ce9d4655735"
      },
      "source": [
        "x = \"Dario\"\n",
        "print(type(x))"
      ],
      "execution_count": 14,
      "outputs": [
        {
          "output_type": "stream",
          "text": [
            "<class 'str'>\n"
          ],
          "name": "stdout"
        }
      ]
    },
    {
      "cell_type": "code",
      "metadata": {
        "colab": {
          "base_uri": "https://localhost:8080/"
        },
        "id": "PeeTM8FKVln-",
        "outputId": "83b490de-3fe1-4e87-f034-5858e63d762e"
      },
      "source": [
        "x = 0.03\n",
        "print(type(x))"
      ],
      "execution_count": 15,
      "outputs": [
        {
          "output_type": "stream",
          "text": [
            "<class 'float'>\n"
          ],
          "name": "stdout"
        }
      ]
    },
    {
      "cell_type": "code",
      "metadata": {
        "colab": {
          "base_uri": "https://localhost:8080/"
        },
        "id": "sd09wlIXVuyk",
        "outputId": "94e30be6-240e-4647-c1a7-42b8abbb020d"
      },
      "source": [
        "x = 1j\n",
        "print(type(x))"
      ],
      "execution_count": 16,
      "outputs": [
        {
          "output_type": "stream",
          "text": [
            "<class 'complex'>\n"
          ],
          "name": "stdout"
        }
      ]
    },
    {
      "cell_type": "code",
      "metadata": {
        "colab": {
          "base_uri": "https://localhost:8080/"
        },
        "id": "0vM49Pi7V13H",
        "outputId": "b69b1d38-bf10-45d4-eed5-b562361d78ca"
      },
      "source": [
        "x = [\"apple\", \"banana\", \"cherry\"]\n",
        "print(type(x))"
      ],
      "execution_count": 17,
      "outputs": [
        {
          "output_type": "stream",
          "text": [
            "<class 'list'>\n"
          ],
          "name": "stdout"
        }
      ]
    },
    {
      "cell_type": "code",
      "metadata": {
        "colab": {
          "base_uri": "https://localhost:8080/"
        },
        "id": "ujC6lv1oV_gW",
        "outputId": "97192869-3a18-423b-d931-2a5f4cc1a475"
      },
      "source": [
        "x = (\"apple\", \"banana\", \"cherry\")\n",
        "print(type(x))\n"
      ],
      "execution_count": 18,
      "outputs": [
        {
          "output_type": "stream",
          "text": [
            "<class 'tuple'>\n"
          ],
          "name": "stdout"
        }
      ]
    },
    {
      "cell_type": "code",
      "metadata": {
        "colab": {
          "base_uri": "https://localhost:8080/"
        },
        "id": "u-dg6_zwWKUG",
        "outputId": "3e98023e-2e3e-44eb-cd04-6e1388a12934"
      },
      "source": [
        "x = range(6)\n",
        "print(type(x))"
      ],
      "execution_count": 19,
      "outputs": [
        {
          "output_type": "stream",
          "text": [
            "<class 'range'>\n"
          ],
          "name": "stdout"
        }
      ]
    },
    {
      "cell_type": "code",
      "metadata": {
        "colab": {
          "base_uri": "https://localhost:8080/"
        },
        "id": "VffFZSHAWRSG",
        "outputId": "18ee6611-50d9-4930-c053-500bddab8290"
      },
      "source": [
        "x = {\"name\": \"John\", \"age\": 36}\n",
        "print(type(x))"
      ],
      "execution_count": 20,
      "outputs": [
        {
          "output_type": "stream",
          "text": [
            "<class 'dict'>\n"
          ],
          "name": "stdout"
        }
      ]
    },
    {
      "cell_type": "code",
      "metadata": {
        "colab": {
          "base_uri": "https://localhost:8080/"
        },
        "id": "t0w67g8oWnk-",
        "outputId": "0cf8911a-f72c-440d-f655-aad599cf7c01"
      },
      "source": [
        "x = {\"apple\", \"banana\", \"cherry\"}\n",
        "print(type(x))"
      ],
      "execution_count": 21,
      "outputs": [
        {
          "output_type": "stream",
          "text": [
            "<class 'set'>\n"
          ],
          "name": "stdout"
        }
      ]
    },
    {
      "cell_type": "markdown",
      "metadata": {
        "id": "v4du9dy3ZXdA"
      },
      "source": [
        "Numbers          int,       float,         complex"
      ]
    },
    {
      "cell_type": "code",
      "metadata": {
        "colab": {
          "base_uri": "https://localhost:8080/"
        },
        "id": "L9EmHTXoYv9t",
        "outputId": "1be228c2-9f72-430b-f727-fc60a3bfc28a"
      },
      "source": [
        "x = 1 #int\n",
        "y = 0.3 #float\n",
        "z = 1j #complex\n",
        "\n",
        "print(type(x))\n",
        "print(type(y))\n",
        "print(type(z))"
      ],
      "execution_count": 22,
      "outputs": [
        {
          "output_type": "stream",
          "text": [
            "<class 'int'>\n",
            "<class 'float'>\n",
            "<class 'complex'>\n"
          ],
          "name": "stdout"
        }
      ]
    },
    {
      "cell_type": "code",
      "metadata": {
        "colab": {
          "base_uri": "https://localhost:8080/"
        },
        "id": "Qz5KBLdZahz2",
        "outputId": "710d39f0-3518-4d9b-918f-73fb13079959"
      },
      "source": [
        "x = 1 #int\n",
        "y = 2.8 #float\n",
        "z = 1j #complex\n",
        "\n",
        "#convert from int to float:\n",
        "a = float(x)\n",
        "\n",
        "#convert from float to int:\n",
        "b = int(y)\n",
        "\n",
        "#convert from int to complex:\n",
        "c = complex(x)\n",
        "\n",
        "print(a)\n",
        "print(b)\n",
        "print(c)\n",
        "\n",
        "print(type(a))\n",
        "print(type(b))\n",
        "print(type(c))"
      ],
      "execution_count": 23,
      "outputs": [
        {
          "output_type": "stream",
          "text": [
            "1.0\n",
            "2\n",
            "(1+0j)\n",
            "<class 'float'>\n",
            "<class 'int'>\n",
            "<class 'complex'>\n"
          ],
          "name": "stdout"
        }
      ]
    },
    {
      "cell_type": "markdown",
      "metadata": {
        "id": "DljyEmUJbm0K"
      },
      "source": [
        "Random numbers"
      ]
    },
    {
      "cell_type": "code",
      "metadata": {
        "colab": {
          "base_uri": "https://localhost:8080/"
        },
        "id": "_TUXEI7hbrbt",
        "outputId": "0b4119de-b897-4713-a574-e72135fa5fb5"
      },
      "source": [
        "import random\n",
        "print(random.randrange(1,10))"
      ],
      "execution_count": 58,
      "outputs": [
        {
          "output_type": "stream",
          "text": [
            "9\n"
          ],
          "name": "stdout"
        }
      ]
    },
    {
      "cell_type": "markdown",
      "metadata": {
        "id": "Xi4oaoOxchdG"
      },
      "source": [
        "Specify a variable (\"Concasting\")"
      ]
    },
    {
      "cell_type": "code",
      "metadata": {
        "colab": {
          "base_uri": "https://localhost:8080/"
        },
        "id": "BEgM3S43cjl1",
        "outputId": "d0870c77-c805-4970-d41d-8cef0edc9a1d"
      },
      "source": [
        "x = int(1) #x will be 1\n",
        "y = int(2.8) #y will be 2\n",
        "z = int(\"3\") #z will be 3\n",
        "print(x)\n",
        "print(y)\n",
        "print(z)"
      ],
      "execution_count": 61,
      "outputs": [
        {
          "output_type": "stream",
          "text": [
            "1\n",
            "2\n",
            "3\n"
          ],
          "name": "stdout"
        }
      ]
    },
    {
      "cell_type": "code",
      "metadata": {
        "colab": {
          "base_uri": "https://localhost:8080/"
        },
        "id": "dt_86_c1ddlV",
        "outputId": "0477f603-4c58-4383-ed33-7b690864fe31"
      },
      "source": [
        "x = float(1) #x will be float\n",
        "y = float(2.8) #y will be float\n",
        "z = float(\"3\") #will be float\n",
        "print(x)\n",
        "print(y)\n",
        "print(z)\n",
        "\n",
        "print(type(x))"
      ],
      "execution_count": 63,
      "outputs": [
        {
          "output_type": "stream",
          "text": [
            "1.0\n",
            "2.8\n",
            "3.0\n",
            "<class 'float'>\n"
          ],
          "name": "stdout"
        }
      ]
    },
    {
      "cell_type": "code",
      "metadata": {
        "colab": {
          "base_uri": "https://localhost:8080/"
        },
        "id": "ntvR13dsd-_x",
        "outputId": "76a4ab3d-7411-4766-d975-7ac4c0cea29c"
      },
      "source": [
        "x = str(\"s1\") #x will be string\n",
        "y = str(2) #y will be string\n",
        "z = str(3.0) #z will be string\n",
        "print(x)\n",
        "print(y)\n",
        "print(z)"
      ],
      "execution_count": 64,
      "outputs": [
        {
          "output_type": "stream",
          "text": [
            "s1\n",
            "2\n",
            "3.0\n"
          ],
          "name": "stdout"
        }
      ]
    },
    {
      "cell_type": "code",
      "metadata": {
        "colab": {
          "base_uri": "https://localhost:8080/"
        },
        "id": "y-fDeapKe9SX",
        "outputId": "3c197c8a-b691-4e8b-fd0f-4bcd7b91562d"
      },
      "source": [
        "x = '''jiswdfsnsdkfs;samdskladmsopam csamcisacsancmcxkz x asc sajascns anosi'''\n",
        "print(x)"
      ],
      "execution_count": 65,
      "outputs": [
        {
          "output_type": "stream",
          "text": [
            "jiswdfsnsdkfs;samdskladmsopam csamcisacsancmcxkz x asc sajascns anosi\n"
          ],
          "name": "stdout"
        }
      ]
    },
    {
      "cell_type": "code",
      "metadata": {
        "colab": {
          "base_uri": "https://localhost:8080/"
        },
        "id": "TL72zRcWfIAV",
        "outputId": "739fa686-458d-48f6-e8d0-578666c92398"
      },
      "source": [
        "x = 'Hello, World'\n",
        "\n",
        "print(x[1])"
      ],
      "execution_count": 67,
      "outputs": [
        {
          "output_type": "stream",
          "text": [
            "e\n"
          ],
          "name": "stdout"
        }
      ]
    },
    {
      "cell_type": "markdown",
      "metadata": {
        "id": "mv9pAHM4fdNW"
      },
      "source": [
        "Looping through a string"
      ]
    },
    {
      "cell_type": "code",
      "metadata": {
        "colab": {
          "base_uri": "https://localhost:8080/"
        },
        "id": "QaEOtolSfhAM",
        "outputId": "adc1c20c-a64a-4523-fbab-eee692b474cf"
      },
      "source": [
        "for x  in \"banana\":\n",
        "  print(x)"
      ],
      "execution_count": 69,
      "outputs": [
        {
          "output_type": "stream",
          "text": [
            "b\n",
            "a\n",
            "n\n",
            "a\n",
            "n\n",
            "a\n"
          ],
          "name": "stdout"
        }
      ]
    },
    {
      "cell_type": "markdown",
      "metadata": {
        "id": "2FjHfQjsgLBl"
      },
      "source": [
        "String length"
      ]
    },
    {
      "cell_type": "code",
      "metadata": {
        "colab": {
          "base_uri": "https://localhost:8080/"
        },
        "id": "fKMT7WU8gNFU",
        "outputId": "4accbe32-676c-4d45-9a19-22efaf266fff"
      },
      "source": [
        "a = \"Hello, World!\"\n",
        "print(len(a))"
      ],
      "execution_count": 70,
      "outputs": [
        {
          "output_type": "stream",
          "text": [
            "13\n"
          ],
          "name": "stdout"
        }
      ]
    },
    {
      "cell_type": "markdown",
      "metadata": {
        "id": "PylNST49gjSd"
      },
      "source": [
        "Check string"
      ]
    },
    {
      "cell_type": "code",
      "metadata": {
        "colab": {
          "base_uri": "https://localhost:8080/"
        },
        "id": "aITCMbH_giWb",
        "outputId": "d716aa12-66fb-4b51-bccf-97e1318f367a"
      },
      "source": [
        "txt = \"The best things in life are free!\"\n",
        "print(\"free\" in txt)"
      ],
      "execution_count": 71,
      "outputs": [
        {
          "output_type": "stream",
          "text": [
            "True\n"
          ],
          "name": "stdout"
        }
      ]
    },
    {
      "cell_type": "code",
      "metadata": {
        "colab": {
          "base_uri": "https://localhost:8080/"
        },
        "id": "V49AcWy7g1Uq",
        "outputId": "01b96919-2a48-408c-e88f-3180e483a0d2"
      },
      "source": [
        "txt = \"The best things in life are free!\"\n",
        "print(\"free\" not in txt)"
      ],
      "execution_count": 72,
      "outputs": [
        {
          "output_type": "stream",
          "text": [
            "False\n"
          ],
          "name": "stdout"
        }
      ]
    },
    {
      "cell_type": "code",
      "metadata": {
        "colab": {
          "base_uri": "https://localhost:8080/"
        },
        "id": "F1smmuNXhApA",
        "outputId": "2d5014f0-c669-4389-b310-1e335a92acfb"
      },
      "source": [
        "txt = \"The best things in life are free!\"\n",
        "if \"expensive\" not in txt:\n",
        "  print(\"No, 'expensive' is NOT present.\")"
      ],
      "execution_count": 73,
      "outputs": [
        {
          "output_type": "stream",
          "text": [
            "No, 'expensive' is NOT present.\n"
          ],
          "name": "stdout"
        }
      ]
    },
    {
      "cell_type": "markdown",
      "metadata": {
        "id": "ZmVVTe2ihuxD"
      },
      "source": [
        "Sicing Strings"
      ]
    },
    {
      "cell_type": "code",
      "metadata": {
        "colab": {
          "base_uri": "https://localhost:8080/"
        },
        "id": "DsI3X5-yhxxs",
        "outputId": "4ed83d0a-e151-416d-be3d-c4fe61b8ad5a"
      },
      "source": [
        "x = \"Hellow, World!\"\n",
        "print(x[3:6])"
      ],
      "execution_count": 78,
      "outputs": [
        {
          "output_type": "stream",
          "text": [
            "low\n"
          ],
          "name": "stdout"
        }
      ]
    },
    {
      "cell_type": "code",
      "metadata": {
        "colab": {
          "base_uri": "https://localhost:8080/"
        },
        "id": "4ziKMz-OiUZt",
        "outputId": "a9febd56-09a4-4c89-b076-599fadff1cc2"
      },
      "source": [
        "x = \"Hellow, World!\"\n",
        "print(x[:4])"
      ],
      "execution_count": 83,
      "outputs": [
        {
          "output_type": "stream",
          "text": [
            "Hell\n"
          ],
          "name": "stdout"
        }
      ]
    },
    {
      "cell_type": "code",
      "metadata": {
        "colab": {
          "base_uri": "https://localhost:8080/"
        },
        "id": "z92SGrDZijeU",
        "outputId": "ac6a2ca5-6ceb-444d-b36b-2b8597b9f79e"
      },
      "source": [
        "x = \"Hellow, World!\"\n",
        "print(x[3:])"
      ],
      "execution_count": 84,
      "outputs": [
        {
          "output_type": "stream",
          "text": [
            "low, World!\n"
          ],
          "name": "stdout"
        }
      ]
    },
    {
      "cell_type": "code",
      "metadata": {
        "colab": {
          "base_uri": "https://localhost:8080/"
        },
        "id": "iqdIrbooi17P",
        "outputId": "7b8e83f1-6cfa-48d1-9ca8-62539c38a34e"
      },
      "source": [
        "x = \"Hellow, World!\"\n",
        "print(x[-5:-2])"
      ],
      "execution_count": 85,
      "outputs": [
        {
          "output_type": "stream",
          "text": [
            "orl\n"
          ],
          "name": "stdout"
        }
      ]
    },
    {
      "cell_type": "code",
      "metadata": {
        "colab": {
          "base_uri": "https://localhost:8080/"
        },
        "id": "Cyv3L6cDjDPe",
        "outputId": "1525d72d-5ffb-4752-b8b4-702f494b40e6"
      },
      "source": [
        "x = \"Hellow, World!\"\n",
        "print(x.upper())"
      ],
      "execution_count": 86,
      "outputs": [
        {
          "output_type": "stream",
          "text": [
            "HELLOW, WORLD!\n"
          ],
          "name": "stdout"
        }
      ]
    },
    {
      "cell_type": "code",
      "metadata": {
        "colab": {
          "base_uri": "https://localhost:8080/"
        },
        "id": "PyKhoSb_jPkD",
        "outputId": "3562e34f-ca03-4232-d507-1dc7a9382cd4"
      },
      "source": [
        "x = \"HELLO, WORLD!\"\n",
        "print(x.lower())"
      ],
      "execution_count": 88,
      "outputs": [
        {
          "output_type": "stream",
          "text": [
            "hello, world!\n"
          ],
          "name": "stdout"
        }
      ]
    },
    {
      "cell_type": "markdown",
      "metadata": {
        "id": "1TJVbJ0djkR7"
      },
      "source": [
        "Replace"
      ]
    },
    {
      "cell_type": "code",
      "metadata": {
        "colab": {
          "base_uri": "https://localhost:8080/"
        },
        "id": "JrJozj19jjQ2",
        "outputId": "90d8c16a-6426-4bba-c335-fa2e22c9ae84"
      },
      "source": [
        "x = \"Hellow, World!\"\n",
        "print(x.replace(\"H\", \"J\"))"
      ],
      "execution_count": 89,
      "outputs": [
        {
          "output_type": "stream",
          "text": [
            "Jellow, World!\n"
          ],
          "name": "stdout"
        }
      ]
    },
    {
      "cell_type": "markdown",
      "metadata": {
        "id": "vK9zZmqgj5jD"
      },
      "source": [
        "Concatenation"
      ]
    },
    {
      "cell_type": "code",
      "metadata": {
        "colab": {
          "base_uri": "https://localhost:8080/"
        },
        "id": "0mp8CNYekF1k",
        "outputId": "68acade9-ea26-4fc4-83c1-432252818446"
      },
      "source": [
        "a = \"Hello\"\n",
        "b = \"World\"\n",
        "c = a + \" \" + b\n",
        "print(c)"
      ],
      "execution_count": 95,
      "outputs": [
        {
          "output_type": "stream",
          "text": [
            "Hello World\n"
          ],
          "name": "stdout"
        }
      ]
    },
    {
      "cell_type": "markdown",
      "metadata": {
        "id": "ClEQSU72mAgo"
      },
      "source": [
        "String format"
      ]
    },
    {
      "cell_type": "code",
      "metadata": {
        "colab": {
          "base_uri": "https://localhost:8080/"
        },
        "id": "3u2d50eol-BU",
        "outputId": "0ccc2128-e03c-4e8f-f1c2-bb38c2159c67"
      },
      "source": [
        "age = 36\n",
        "txt = \"My name is John, and I am  {}\"\n",
        "print(txt.format(age))"
      ],
      "execution_count": 96,
      "outputs": [
        {
          "output_type": "stream",
          "text": [
            "My name is John, and I am  36\n"
          ],
          "name": "stdout"
        }
      ]
    },
    {
      "cell_type": "code",
      "metadata": {
        "colab": {
          "base_uri": "https://localhost:8080/"
        },
        "id": "FNdr-_SUmWtZ",
        "outputId": "f71aa26a-5a13-4b22-91cd-618a7cb7d919"
      },
      "source": [
        "quantity = 3\n",
        "itemno = 567\n",
        "pirce = 49.95\n",
        "myorder = \"I want {} pieces of items {} for {} dollars.\"\n",
        "print(myorder.format(quantity, itemno, pirce))\n"
      ],
      "execution_count": 97,
      "outputs": [
        {
          "output_type": "stream",
          "text": [
            "I want 3 pieces of items 567 for 49.95 dollars.\n"
          ],
          "name": "stdout"
        }
      ]
    },
    {
      "cell_type": "code",
      "metadata": {
        "colab": {
          "base_uri": "https://localhost:8080/"
        },
        "id": "m--Bx3j7nT3C",
        "outputId": "ca3dfd05-c1d3-426d-ed09-a0402b1c6e46"
      },
      "source": [
        "quantity = 3\n",
        "itemno = 567\n",
        "pirce = 49.95\n",
        "myorder = \"I want {2} pieces of items {0} for {1} dollars.\"\n",
        "print(myorder.format(quantity, itemno, pirce))\n"
      ],
      "execution_count": 98,
      "outputs": [
        {
          "output_type": "stream",
          "text": [
            "I want 49.95 pieces of items 3 for 567 dollars.\n"
          ],
          "name": "stdout"
        }
      ]
    },
    {
      "cell_type": "markdown",
      "metadata": {
        "id": "PKVLpiO7n_sx"
      },
      "source": [
        "The list constructor"
      ]
    },
    {
      "cell_type": "code",
      "metadata": {
        "id": "p8Dzd5kuveVT",
        "outputId": "b98c874b-1be8-4efb-f4be-97e5998b31df",
        "colab": {
          "base_uri": "https://localhost:8080/"
        }
      },
      "source": [
        "thislist = list((\"apple\", \"banana\", \"cherry\")) #double round-brackets\n",
        "print(thislist)"
      ],
      "execution_count": 101,
      "outputs": [
        {
          "output_type": "stream",
          "text": [
            "['apple', 'banana', 'cherry']\n"
          ],
          "name": "stdout"
        }
      ]
    },
    {
      "cell_type": "markdown",
      "metadata": {
        "id": "lTyTqEo3wWJz"
      },
      "source": [
        "Access Items"
      ]
    },
    {
      "cell_type": "code",
      "metadata": {
        "id": "j_Z8LbejwUFz",
        "outputId": "033e9c13-f541-4ad4-ad39-d26e915ba9ae",
        "colab": {
          "base_uri": "https://localhost:8080/"
        }
      },
      "source": [
        "thislist = [\"apple\", \"banana\", \"cherry\"]\n",
        "print(thislist[1])"
      ],
      "execution_count": 102,
      "outputs": [
        {
          "output_type": "stream",
          "text": [
            "banana\n"
          ],
          "name": "stdout"
        }
      ]
    },
    {
      "cell_type": "code",
      "metadata": {
        "id": "eN5qBw8Nwhcy",
        "outputId": "852f6c54-7b6c-4ee1-9e85-618760a0b872",
        "colab": {
          "base_uri": "https://localhost:8080/"
        }
      },
      "source": [
        "thislist = [\"apple\", \"banana\", \"cherry\"]\n",
        "print(thislist[-3])"
      ],
      "execution_count": 109,
      "outputs": [
        {
          "output_type": "stream",
          "text": [
            "apple\n"
          ],
          "name": "stdout"
        }
      ]
    },
    {
      "cell_type": "code",
      "metadata": {
        "id": "vCD3H5jZw1ud",
        "outputId": "69d2e18d-bbd1-4530-f554-4c17f6f14aaf",
        "colab": {
          "base_uri": "https://localhost:8080/"
        }
      },
      "source": [
        "thislist = [\"apple\", \"banana\", \"cherry\", \"orange\", \"kiwi\", \"melon\", \"mango\"]\n",
        "print(thislist[2:5])\n"
      ],
      "execution_count": 110,
      "outputs": [
        {
          "output_type": "stream",
          "text": [
            "['cherry', 'orange', 'kiwi']\n"
          ],
          "name": "stdout"
        }
      ]
    },
    {
      "cell_type": "code",
      "metadata": {
        "id": "xhUuysBGxAt8",
        "outputId": "35e50618-f52a-424a-d857-40d1cc3be9c1",
        "colab": {
          "base_uri": "https://localhost:8080/"
        }
      },
      "source": [
        "thislist = [\"apple\", \"banana\", \"cherry\"]\n",
        "if \"apple\" in thislist:\n",
        "  print(\"Yes, 'apple' is in the fruits list\")"
      ],
      "execution_count": 123,
      "outputs": [
        {
          "output_type": "stream",
          "text": [
            "Yes, 'apple' is in the fruits list\n"
          ],
          "name": "stdout"
        }
      ]
    },
    {
      "cell_type": "markdown",
      "metadata": {
        "id": "rZJSCZSMyC2O"
      },
      "source": [
        "Change Item value"
      ]
    },
    {
      "cell_type": "code",
      "metadata": {
        "id": "ETa2ZoVxyFox",
        "outputId": "714c7f9a-3ef4-4cd3-ca55-a16d7223ce59",
        "colab": {
          "base_uri": "https://localhost:8080/"
        }
      },
      "source": [
        "thislist = [\"apple\", \"banana\", \"cherry\"]\n",
        "thislist[1] = \"orange\"\n",
        "print(thislist)"
      ],
      "execution_count": 124,
      "outputs": [
        {
          "output_type": "stream",
          "text": [
            "['apple', 'orange', 'cherry']\n"
          ],
          "name": "stdout"
        }
      ]
    },
    {
      "cell_type": "code",
      "metadata": {
        "id": "qAHPNL4QycxV",
        "outputId": "9bae47f8-c36a-4438-d96a-ffacd100a722",
        "colab": {
          "base_uri": "https://localhost:8080/"
        }
      },
      "source": [
        "thislist = [\"apple\", \"banana\", \"cherry\", \"kiwi\",\"mango\"]\n",
        "thislist[1:3] = [\"orange\", \"watermelon\"]\n",
        "print(thislist)"
      ],
      "execution_count": 129,
      "outputs": [
        {
          "output_type": "stream",
          "text": [
            "['apple', 'orange', 'watermelon', 'kiwi', 'mango']\n"
          ],
          "name": "stdout"
        }
      ]
    },
    {
      "cell_type": "code",
      "metadata": {
        "id": "p5bzq4hVzGpq",
        "outputId": "0739c726-5588-4071-ba0a-c6843c60ca0d",
        "colab": {
          "base_uri": "https://localhost:8080/"
        }
      },
      "source": [
        "thislist = [\"apple\", \"banana\", \"cherry\", \"kiwi\",\"mango\"]\n",
        "thislist[1:2] = [\"orange\", \"watermelon\"]\n",
        "thislist.insert(2, \"perro\")\n",
        "print(thislist)"
      ],
      "execution_count": 135,
      "outputs": [
        {
          "output_type": "stream",
          "text": [
            "['apple', 'orange', 'perro', 'watermelon', 'cherry', 'kiwi', 'mango']\n"
          ],
          "name": "stdout"
        }
      ]
    }
  ]
}